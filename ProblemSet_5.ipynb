{
 "cells": [
  {
   "cell_type": "markdown",
   "metadata": {},
   "source": [
    "# Exercise 13"
   ]
  },
  {
   "cell_type": "code",
   "execution_count": 1,
   "metadata": {},
   "outputs": [],
   "source": [
    "import pandas as pd\n",
    "import numpy as np\n",
    "import matplotlib.pyplot as plt\n",
    "import wooldridge as woo\n",
    "import statsmodels.formula.api as smf\n",
    "import scipy.stats as stats\n",
    "import linearmodels as plm"
   ]
  },
  {
   "cell_type": "markdown",
   "metadata": {
    "slideshow": {
     "slide_type": "slide"
    }
   },
   "source": [
    "Exercise: Use the dataset 'mroz' from 'wooldridge' and estimate the following model, where education ('educ') is considered endogenous.  \n",
    "\n",
    "\n",
    "\\begin{equation*}\n",
    "log(wage)=\\beta_0+\\beta_1educ+\\beta_2exper+u\n",
    "\\end{equation*}  \n",
    "\n",
    "  \n",
    "  \n",
    "- Do you think we get a causal effect for the return on education on wage? If not, why not?\n",
    "- How is the problem called and which OLS assumption is violated?\n",
    "- What are potential solutions to adress this problem? What are the requirements to use them in order to be able to estimate caual effect?\n",
    "- There are two potential sources of endogeneity that we've covered in the class. How do we call them and how do they cause endogeneity?\n",
    "- If this would be panel data, how could we correct for endogeneity? Which type of the endogeneity could we adress by taking advantage of the panel data structure?\n",
    "- What are the two requirements of an instrument to work?\n",
    "- Which one can be tested and which one can't?\n",
    "- Think about potential instruments which could be used to adress the endogeneity in this case.\n",
    "- A candidate is the father's education. But does it fulfill the exogeneity requirement if we estimate the model as it is at the moment?\n",
    "- Estimate OLS, IV by hand and IV using an implemented estimator and report the results.\n",
    "- Is the instrument relevant (strong enough)? Please test the instrument relevance.\n",
    "- What can you say about the inference when estimating IV by hand? \n",
    "- Can you use IV also in non-linear models? If not, what would be an alternative?\n",
    "- Estimate the model with the control function approach\n"
   ]
  },
  {
   "cell_type": "code",
   "execution_count": 2,
   "metadata": {},
   "outputs": [
    {
     "data": {
      "text/html": [
       "<div>\n",
       "<style scoped>\n",
       "    .dataframe tbody tr th:only-of-type {\n",
       "        vertical-align: middle;\n",
       "    }\n",
       "\n",
       "    .dataframe tbody tr th {\n",
       "        vertical-align: top;\n",
       "    }\n",
       "\n",
       "    .dataframe thead th {\n",
       "        text-align: right;\n",
       "    }\n",
       "</style>\n",
       "<table border=\"1\" class=\"dataframe\">\n",
       "  <thead>\n",
       "    <tr style=\"text-align: right;\">\n",
       "      <th></th>\n",
       "      <th>inlf</th>\n",
       "      <th>hours</th>\n",
       "      <th>kidslt6</th>\n",
       "      <th>kidsge6</th>\n",
       "      <th>age</th>\n",
       "      <th>educ</th>\n",
       "      <th>wage</th>\n",
       "      <th>repwage</th>\n",
       "      <th>hushrs</th>\n",
       "      <th>husage</th>\n",
       "      <th>...</th>\n",
       "      <th>faminc</th>\n",
       "      <th>mtr</th>\n",
       "      <th>motheduc</th>\n",
       "      <th>fatheduc</th>\n",
       "      <th>unem</th>\n",
       "      <th>city</th>\n",
       "      <th>exper</th>\n",
       "      <th>nwifeinc</th>\n",
       "      <th>lwage</th>\n",
       "      <th>expersq</th>\n",
       "    </tr>\n",
       "  </thead>\n",
       "  <tbody>\n",
       "    <tr>\n",
       "      <th>count</th>\n",
       "      <td>753.000000</td>\n",
       "      <td>753.000000</td>\n",
       "      <td>753.000000</td>\n",
       "      <td>753.000000</td>\n",
       "      <td>753.000000</td>\n",
       "      <td>753.000000</td>\n",
       "      <td>428.000000</td>\n",
       "      <td>753.000000</td>\n",
       "      <td>753.000000</td>\n",
       "      <td>753.000000</td>\n",
       "      <td>...</td>\n",
       "      <td>753.000000</td>\n",
       "      <td>753.000000</td>\n",
       "      <td>753.000000</td>\n",
       "      <td>753.000000</td>\n",
       "      <td>753.000000</td>\n",
       "      <td>753.000000</td>\n",
       "      <td>753.00000</td>\n",
       "      <td>753.000000</td>\n",
       "      <td>428.000000</td>\n",
       "      <td>753.000000</td>\n",
       "    </tr>\n",
       "    <tr>\n",
       "      <th>mean</th>\n",
       "      <td>0.568393</td>\n",
       "      <td>740.576361</td>\n",
       "      <td>0.237716</td>\n",
       "      <td>1.353254</td>\n",
       "      <td>42.537849</td>\n",
       "      <td>12.286853</td>\n",
       "      <td>4.177682</td>\n",
       "      <td>1.849734</td>\n",
       "      <td>2267.270916</td>\n",
       "      <td>45.120850</td>\n",
       "      <td>...</td>\n",
       "      <td>23080.594954</td>\n",
       "      <td>0.678863</td>\n",
       "      <td>9.250996</td>\n",
       "      <td>8.808765</td>\n",
       "      <td>8.623506</td>\n",
       "      <td>0.642762</td>\n",
       "      <td>10.63081</td>\n",
       "      <td>20.128964</td>\n",
       "      <td>1.190173</td>\n",
       "      <td>178.038513</td>\n",
       "    </tr>\n",
       "    <tr>\n",
       "      <th>std</th>\n",
       "      <td>0.495630</td>\n",
       "      <td>871.314216</td>\n",
       "      <td>0.523959</td>\n",
       "      <td>1.319874</td>\n",
       "      <td>8.072574</td>\n",
       "      <td>2.280246</td>\n",
       "      <td>3.310282</td>\n",
       "      <td>2.419887</td>\n",
       "      <td>595.566649</td>\n",
       "      <td>8.058793</td>\n",
       "      <td>...</td>\n",
       "      <td>12190.202026</td>\n",
       "      <td>0.083496</td>\n",
       "      <td>3.367468</td>\n",
       "      <td>3.572290</td>\n",
       "      <td>3.114934</td>\n",
       "      <td>0.479504</td>\n",
       "      <td>8.06913</td>\n",
       "      <td>11.634797</td>\n",
       "      <td>0.723198</td>\n",
       "      <td>249.630849</td>\n",
       "    </tr>\n",
       "    <tr>\n",
       "      <th>min</th>\n",
       "      <td>0.000000</td>\n",
       "      <td>0.000000</td>\n",
       "      <td>0.000000</td>\n",
       "      <td>0.000000</td>\n",
       "      <td>30.000000</td>\n",
       "      <td>5.000000</td>\n",
       "      <td>0.128200</td>\n",
       "      <td>0.000000</td>\n",
       "      <td>175.000000</td>\n",
       "      <td>30.000000</td>\n",
       "      <td>...</td>\n",
       "      <td>1500.000000</td>\n",
       "      <td>0.441500</td>\n",
       "      <td>0.000000</td>\n",
       "      <td>0.000000</td>\n",
       "      <td>3.000000</td>\n",
       "      <td>0.000000</td>\n",
       "      <td>0.00000</td>\n",
       "      <td>-0.029057</td>\n",
       "      <td>-2.054164</td>\n",
       "      <td>0.000000</td>\n",
       "    </tr>\n",
       "    <tr>\n",
       "      <th>25%</th>\n",
       "      <td>0.000000</td>\n",
       "      <td>0.000000</td>\n",
       "      <td>0.000000</td>\n",
       "      <td>0.000000</td>\n",
       "      <td>36.000000</td>\n",
       "      <td>12.000000</td>\n",
       "      <td>2.262600</td>\n",
       "      <td>0.000000</td>\n",
       "      <td>1928.000000</td>\n",
       "      <td>38.000000</td>\n",
       "      <td>...</td>\n",
       "      <td>15428.000000</td>\n",
       "      <td>0.621500</td>\n",
       "      <td>7.000000</td>\n",
       "      <td>7.000000</td>\n",
       "      <td>7.500000</td>\n",
       "      <td>0.000000</td>\n",
       "      <td>4.00000</td>\n",
       "      <td>13.025040</td>\n",
       "      <td>0.816509</td>\n",
       "      <td>16.000000</td>\n",
       "    </tr>\n",
       "    <tr>\n",
       "      <th>50%</th>\n",
       "      <td>1.000000</td>\n",
       "      <td>288.000000</td>\n",
       "      <td>0.000000</td>\n",
       "      <td>1.000000</td>\n",
       "      <td>43.000000</td>\n",
       "      <td>12.000000</td>\n",
       "      <td>3.481900</td>\n",
       "      <td>0.000000</td>\n",
       "      <td>2164.000000</td>\n",
       "      <td>46.000000</td>\n",
       "      <td>...</td>\n",
       "      <td>20880.000000</td>\n",
       "      <td>0.691500</td>\n",
       "      <td>10.000000</td>\n",
       "      <td>7.000000</td>\n",
       "      <td>7.500000</td>\n",
       "      <td>1.000000</td>\n",
       "      <td>9.00000</td>\n",
       "      <td>17.700001</td>\n",
       "      <td>1.247574</td>\n",
       "      <td>81.000000</td>\n",
       "    </tr>\n",
       "    <tr>\n",
       "      <th>75%</th>\n",
       "      <td>1.000000</td>\n",
       "      <td>1516.000000</td>\n",
       "      <td>0.000000</td>\n",
       "      <td>2.000000</td>\n",
       "      <td>49.000000</td>\n",
       "      <td>13.000000</td>\n",
       "      <td>4.970750</td>\n",
       "      <td>3.580000</td>\n",
       "      <td>2553.000000</td>\n",
       "      <td>52.000000</td>\n",
       "      <td>...</td>\n",
       "      <td>28200.000000</td>\n",
       "      <td>0.721500</td>\n",
       "      <td>12.000000</td>\n",
       "      <td>12.000000</td>\n",
       "      <td>11.000000</td>\n",
       "      <td>1.000000</td>\n",
       "      <td>15.00000</td>\n",
       "      <td>24.466000</td>\n",
       "      <td>1.603571</td>\n",
       "      <td>225.000000</td>\n",
       "    </tr>\n",
       "    <tr>\n",
       "      <th>max</th>\n",
       "      <td>1.000000</td>\n",
       "      <td>4950.000000</td>\n",
       "      <td>3.000000</td>\n",
       "      <td>8.000000</td>\n",
       "      <td>60.000000</td>\n",
       "      <td>17.000000</td>\n",
       "      <td>25.000000</td>\n",
       "      <td>9.980000</td>\n",
       "      <td>5010.000000</td>\n",
       "      <td>60.000000</td>\n",
       "      <td>...</td>\n",
       "      <td>96000.000000</td>\n",
       "      <td>0.941500</td>\n",
       "      <td>17.000000</td>\n",
       "      <td>17.000000</td>\n",
       "      <td>14.000000</td>\n",
       "      <td>1.000000</td>\n",
       "      <td>45.00000</td>\n",
       "      <td>96.000000</td>\n",
       "      <td>3.218876</td>\n",
       "      <td>2025.000000</td>\n",
       "    </tr>\n",
       "  </tbody>\n",
       "</table>\n",
       "<p>8 rows × 22 columns</p>\n",
       "</div>"
      ],
      "text/plain": [
       "             inlf        hours     kidslt6     kidsge6         age  \\\n",
       "count  753.000000   753.000000  753.000000  753.000000  753.000000   \n",
       "mean     0.568393   740.576361    0.237716    1.353254   42.537849   \n",
       "std      0.495630   871.314216    0.523959    1.319874    8.072574   \n",
       "min      0.000000     0.000000    0.000000    0.000000   30.000000   \n",
       "25%      0.000000     0.000000    0.000000    0.000000   36.000000   \n",
       "50%      1.000000   288.000000    0.000000    1.000000   43.000000   \n",
       "75%      1.000000  1516.000000    0.000000    2.000000   49.000000   \n",
       "max      1.000000  4950.000000    3.000000    8.000000   60.000000   \n",
       "\n",
       "             educ        wage     repwage       hushrs      husage  ...  \\\n",
       "count  753.000000  428.000000  753.000000   753.000000  753.000000  ...   \n",
       "mean    12.286853    4.177682    1.849734  2267.270916   45.120850  ...   \n",
       "std      2.280246    3.310282    2.419887   595.566649    8.058793  ...   \n",
       "min      5.000000    0.128200    0.000000   175.000000   30.000000  ...   \n",
       "25%     12.000000    2.262600    0.000000  1928.000000   38.000000  ...   \n",
       "50%     12.000000    3.481900    0.000000  2164.000000   46.000000  ...   \n",
       "75%     13.000000    4.970750    3.580000  2553.000000   52.000000  ...   \n",
       "max     17.000000   25.000000    9.980000  5010.000000   60.000000  ...   \n",
       "\n",
       "             faminc         mtr    motheduc    fatheduc        unem  \\\n",
       "count    753.000000  753.000000  753.000000  753.000000  753.000000   \n",
       "mean   23080.594954    0.678863    9.250996    8.808765    8.623506   \n",
       "std    12190.202026    0.083496    3.367468    3.572290    3.114934   \n",
       "min     1500.000000    0.441500    0.000000    0.000000    3.000000   \n",
       "25%    15428.000000    0.621500    7.000000    7.000000    7.500000   \n",
       "50%    20880.000000    0.691500   10.000000    7.000000    7.500000   \n",
       "75%    28200.000000    0.721500   12.000000   12.000000   11.000000   \n",
       "max    96000.000000    0.941500   17.000000   17.000000   14.000000   \n",
       "\n",
       "             city      exper    nwifeinc       lwage      expersq  \n",
       "count  753.000000  753.00000  753.000000  428.000000   753.000000  \n",
       "mean     0.642762   10.63081   20.128964    1.190173   178.038513  \n",
       "std      0.479504    8.06913   11.634797    0.723198   249.630849  \n",
       "min      0.000000    0.00000   -0.029057   -2.054164     0.000000  \n",
       "25%      0.000000    4.00000   13.025040    0.816509    16.000000  \n",
       "50%      1.000000    9.00000   17.700001    1.247574    81.000000  \n",
       "75%      1.000000   15.00000   24.466000    1.603571   225.000000  \n",
       "max      1.000000   45.00000   96.000000    3.218876  2025.000000  \n",
       "\n",
       "[8 rows x 22 columns]"
      ]
     },
     "execution_count": 2,
     "metadata": {},
     "output_type": "execute_result"
    }
   ],
   "source": [
    "mroz = woo.dataWoo('mroz')\n",
    "mroz.describe()"
   ]
  },
  {
   "cell_type": "code",
   "execution_count": 3,
   "metadata": {},
   "outputs": [
    {
     "data": {
      "text/plain": [
       "Index(['inlf', 'hours', 'kidslt6', 'kidsge6', 'age', 'educ', 'wage', 'repwage',\n",
       "       'hushrs', 'husage', 'huseduc', 'huswage', 'faminc', 'mtr', 'motheduc',\n",
       "       'fatheduc', 'unem', 'city', 'exper', 'nwifeinc', 'lwage', 'expersq'],\n",
       "      dtype='object')"
      ]
     },
     "execution_count": 3,
     "metadata": {},
     "output_type": "execute_result"
    }
   ],
   "source": [
    "mroz.columns"
   ]
  },
  {
   "cell_type": "code",
   "execution_count": 5,
   "metadata": {},
   "outputs": [
    {
     "data": {
      "text/html": [
       "<table class=\"simpletable\">\n",
       "<caption>OLS Regression Results</caption>\n",
       "<tr>\n",
       "  <th>Dep. Variable:</th>          <td>lwage</td>      <th>  R-squared:         </th> <td>   0.148</td>\n",
       "</tr>\n",
       "<tr>\n",
       "  <th>Model:</th>                   <td>OLS</td>       <th>  Adj. R-squared:    </th> <td>   0.144</td>\n",
       "</tr>\n",
       "<tr>\n",
       "  <th>Method:</th>             <td>Least Squares</td>  <th>  F-statistic:       </th> <td>   37.02</td>\n",
       "</tr>\n",
       "<tr>\n",
       "  <th>Date:</th>             <td>Mon, 19 Sep 2022</td> <th>  Prob (F-statistic):</th> <td>1.51e-15</td>\n",
       "</tr>\n",
       "<tr>\n",
       "  <th>Time:</th>                 <td>14:28:37</td>     <th>  Log-Likelihood:    </th> <td> -433.74</td>\n",
       "</tr>\n",
       "<tr>\n",
       "  <th>No. Observations:</th>      <td>   428</td>      <th>  AIC:               </th> <td>   873.5</td>\n",
       "</tr>\n",
       "<tr>\n",
       "  <th>Df Residuals:</th>          <td>   425</td>      <th>  BIC:               </th> <td>   885.6</td>\n",
       "</tr>\n",
       "<tr>\n",
       "  <th>Df Model:</th>              <td>     2</td>      <th>                     </th>     <td> </td>   \n",
       "</tr>\n",
       "<tr>\n",
       "  <th>Covariance Type:</th>      <td>nonrobust</td>    <th>                     </th>     <td> </td>   \n",
       "</tr>\n",
       "</table>\n",
       "<table class=\"simpletable\">\n",
       "<tr>\n",
       "      <td></td>         <th>coef</th>     <th>std err</th>      <th>t</th>      <th>P>|t|</th>  <th>[0.025</th>    <th>0.975]</th>  \n",
       "</tr>\n",
       "<tr>\n",
       "  <th>Intercept</th> <td>   -0.4002</td> <td>    0.190</td> <td>   -2.102</td> <td> 0.036</td> <td>   -0.774</td> <td>   -0.026</td>\n",
       "</tr>\n",
       "<tr>\n",
       "  <th>educ</th>      <td>    0.1095</td> <td>    0.014</td> <td>    7.728</td> <td> 0.000</td> <td>    0.082</td> <td>    0.137</td>\n",
       "</tr>\n",
       "<tr>\n",
       "  <th>exper</th>     <td>    0.0157</td> <td>    0.004</td> <td>    3.900</td> <td> 0.000</td> <td>    0.008</td> <td>    0.024</td>\n",
       "</tr>\n",
       "</table>\n",
       "<table class=\"simpletable\">\n",
       "<tr>\n",
       "  <th>Omnibus:</th>       <td>81.122</td> <th>  Durbin-Watson:     </th> <td>   1.981</td>\n",
       "</tr>\n",
       "<tr>\n",
       "  <th>Prob(Omnibus):</th> <td> 0.000</td> <th>  Jarque-Bera (JB):  </th> <td> 296.773</td>\n",
       "</tr>\n",
       "<tr>\n",
       "  <th>Skew:</th>          <td>-0.807</td> <th>  Prob(JB):          </th> <td>3.60e-65</td>\n",
       "</tr>\n",
       "<tr>\n",
       "  <th>Kurtosis:</th>      <td> 6.746</td> <th>  Cond. No.          </th> <td>    113.</td>\n",
       "</tr>\n",
       "</table><br/><br/>Notes:<br/>[1] Standard Errors assume that the covariance matrix of the errors is correctly specified."
      ],
      "text/plain": [
       "<class 'statsmodels.iolib.summary.Summary'>\n",
       "\"\"\"\n",
       "                            OLS Regression Results                            \n",
       "==============================================================================\n",
       "Dep. Variable:                  lwage   R-squared:                       0.148\n",
       "Model:                            OLS   Adj. R-squared:                  0.144\n",
       "Method:                 Least Squares   F-statistic:                     37.02\n",
       "Date:                Mon, 19 Sep 2022   Prob (F-statistic):           1.51e-15\n",
       "Time:                        14:28:37   Log-Likelihood:                -433.74\n",
       "No. Observations:                 428   AIC:                             873.5\n",
       "Df Residuals:                     425   BIC:                             885.6\n",
       "Df Model:                           2                                         \n",
       "Covariance Type:            nonrobust                                         \n",
       "==============================================================================\n",
       "                 coef    std err          t      P>|t|      [0.025      0.975]\n",
       "------------------------------------------------------------------------------\n",
       "Intercept     -0.4002      0.190     -2.102      0.036      -0.774      -0.026\n",
       "educ           0.1095      0.014      7.728      0.000       0.082       0.137\n",
       "exper          0.0157      0.004      3.900      0.000       0.008       0.024\n",
       "==============================================================================\n",
       "Omnibus:                       81.122   Durbin-Watson:                   1.981\n",
       "Prob(Omnibus):                  0.000   Jarque-Bera (JB):              296.773\n",
       "Skew:                          -0.807   Prob(JB):                     3.60e-65\n",
       "Kurtosis:                       6.746   Cond. No.                         113.\n",
       "==============================================================================\n",
       "\n",
       "Notes:\n",
       "[1] Standard Errors assume that the covariance matrix of the errors is correctly specified.\n",
       "\"\"\""
      ]
     },
     "execution_count": 5,
     "metadata": {},
     "output_type": "execute_result"
    }
   ],
   "source": [
    "reg_lin = smf.ols(formula='lwage ~ educ + exper ', data=mroz)\n",
    "results_lin = reg_lin.fit()\n",
    "results_lin.summary()"
   ]
  },
  {
   "cell_type": "markdown",
   "metadata": {},
   "source": [
    "**1.** Do you think we get a causal effect for the return on education on wage? If not, why not?"
   ]
  },
  {
   "cell_type": "markdown",
   "metadata": {},
   "source": [
    "No, we only measure correlation between education and wage, because eucation and experience are both influenced by omitted variables such as ability, intelligence or effort."
   ]
  },
  {
   "cell_type": "markdown",
   "metadata": {},
   "source": [
    "**2.** How is the problem called and which OLS assumption is violated?"
   ]
  },
  {
   "cell_type": "markdown",
   "metadata": {},
   "source": [
    "Omitted variable bias, $E(u/x)=0$"
   ]
  },
  {
   "cell_type": "markdown",
   "metadata": {},
   "source": [
    "**3.** What are potential solutions to adess this problem? Whate are the requirements to use them in order to be able to estimate causal effet?"
   ]
  },
  {
   "cell_type": "markdown",
   "metadata": {},
   "source": [
    "We can include the omitted variables in our model, but some of them could be non measurable. Or we can use the Instrumental Variable Regression."
   ]
  },
  {
   "cell_type": "markdown",
   "metadata": {},
   "source": [
    "**4.** The are two potential sources of endogeneity that we've covered in the class. ho do we call them and how do the cause endogeneity?"
   ]
  },
  {
   "cell_type": "markdown",
   "metadata": {},
   "source": []
  },
  {
   "cell_type": "markdown",
   "metadata": {},
   "source": [
    "**5.** If this would be panel data, how could we correct for endogeneity? which type of the endogeneity could we adress by taking advantage of the panel data structure?"
   ]
  },
  {
   "cell_type": "markdown",
   "metadata": {},
   "source": []
  },
  {
   "cell_type": "markdown",
   "metadata": {},
   "source": [
    "**6.** What are the two requirements of an instrument to work?"
   ]
  },
  {
   "cell_type": "markdown",
   "metadata": {},
   "source": [
    "The instrument should respect to requirements:\n",
    "- **relevance**: it must be sufficiently correlated with the endogenous regressor (not *weak*)\n",
    "- **exogeneity**: it must be uncorrelated with the error term"
   ]
  },
  {
   "cell_type": "markdown",
   "metadata": {},
   "source": [
    "**7.** Which one can be tested and which one can't?"
   ]
  },
  {
   "cell_type": "markdown",
   "metadata": {},
   "source": [
    "The relevance can be tested (in the first stage, the t-statistic sould be superior to 10), whereas the exogeneity can't."
   ]
  },
  {
   "cell_type": "markdown",
   "metadata": {},
   "source": [
    "**8.** Think about potential instruments which could be used to adress the endogeneity in this case."
   ]
  },
  {
   "cell_type": "markdown",
   "metadata": {},
   "source": [
    "We could think about the parents' education or the family's income."
   ]
  },
  {
   "cell_type": "markdown",
   "metadata": {},
   "source": [
    "**9.** A candidate is the father's education. but does it fulfill the exogeneity requirement if we estimate the model as it is as the moment?"
   ]
  },
  {
   "cell_type": "markdown",
   "metadata": {},
   "source": [
    "Not really, it could be for example correlated with the mother's education."
   ]
  },
  {
   "cell_type": "markdown",
   "metadata": {},
   "source": [
    "**10.** Estimate OLS, IV by hand and IV using an implemented estimator and report the results."
   ]
  },
  {
   "cell_type": "code",
   "execution_count": 23,
   "metadata": {},
   "outputs": [
    {
     "name": "stdout",
     "output_type": "stream",
     "text": [
      "table_ols: \n",
      "                b      se       t    pval\n",
      "Intercept -0.4002  0.1904 -2.1021  0.0361\n",
      "educ       0.1095  0.0142  7.7283  0.0000\n",
      "exper      0.0157  0.0040  3.8998  0.0001\n",
      "\n",
      "table_iv_hand: \n",
      "                  b      se       t    pval\n",
      "Intercept    0.4411  0.4671  0.9443  0.3455\n",
      "fstage_pred  0.0592  0.0368  1.6081  0.1086\n",
      "\n",
      "table_iv_builtin: \n",
      "                b      se       t    pval\n",
      "Intercept  0.4411  0.4643  0.9501  0.3421\n",
      "educ       0.0592  0.0369  1.6017  0.1092\n",
      "\n"
     ]
    }
   ],
   "source": [
    "#restrict to non-missing wage observations:\n",
    "mroz = mroz.dropna(subset=['lwage'])\n",
    "\n",
    "# OLS\n",
    "reg_lin = smf.ols(formula='lwage ~ educ + exper', data=mroz)\n",
    "results_lin = reg_lin.fit()\n",
    "\n",
    "# print regression table:\n",
    "table_ols = pd.DataFrame({'b': round(results_lin.params, 4),\n",
    "                          'se': round(results_lin.bse, 4),\n",
    "                          't': round(results_lin.tvalues, 4),\n",
    "                          'pval': round(results_lin.pvalues, 4)})\n",
    "print(f'table_ols: \\n{table_ols}\\n')\n",
    "\n",
    "\n",
    "# IV by hand\n",
    "## first stage\n",
    "first_stage = smf.ols(formula='educ ~ fatheduc', data=mroz)\n",
    "fstage_results = first_stage.fit()\n",
    "fstage_pred = fstage_results.predict()\n",
    "## second stage\n",
    "second_stage = smf.ols(formula='lwage ~ fstage_pred', data=mroz)\n",
    "sstage_results = second_stage.fit()\n",
    "\n",
    "# print regression table:\n",
    "table_iv_hand = pd.DataFrame({'b': round(sstage_results.params, 4),\n",
    "                          'se': round(sstage_results.bse, 4),\n",
    "                          't': round(sstage_results.tvalues, 4),\n",
    "                          'pval': round(sstage_results.pvalues, 4)})\n",
    "print(f'table_iv_hand: \\n{table_iv_hand}\\n')\n",
    "\n",
    "\n",
    "# IV built-in\n",
    "import linearmodels.iv as iv\n",
    "reg_iv = iv.IV2SLS.from_formula(formula='lwage ~ 1 + [educ ~ fatheduc]', data=mroz)\n",
    "results_iv = reg_iv.fit()\n",
    "iv_pred = results_iv.predict()\n",
    "\n",
    "\n",
    "# print regression table:\n",
    "table_iv_builin = pd.DataFrame({'b': round(results_iv.params, 4),\n",
    "                          'se': round(results_iv.std_errors, 4),\n",
    "                          't': round(results_iv.tstats, 4),\n",
    "                          'pval': round(results_iv.pvalues, 4)})\n",
    "print(f'table_iv_builtin: \\n{table_iv_builin}\\n')\n"
   ]
  },
  {
   "cell_type": "markdown",
   "metadata": {},
   "source": [
    "**11.** Is the instruent relevant (strong enough)? Please test the instrument relevance."
   ]
  },
  {
   "cell_type": "code",
   "execution_count": 26,
   "metadata": {},
   "outputs": [
    {
     "name": "stdout",
     "output_type": "stream",
     "text": [
      "Intrument strong enough : False (fvalue = 2.59)\n"
     ]
    }
   ],
   "source": [
    "print(f\"Intrument strong enough : {sstage_results.fvalue>10} (fvalue = {round(sstage_results.fvalue, 2)})\")"
   ]
  },
  {
   "cell_type": "markdown",
   "metadata": {},
   "source": [
    "**12.** What can you say about the inference when estimating IV by hand?"
   ]
  },
  {
   "cell_type": "markdown",
   "metadata": {},
   "source": []
  },
  {
   "cell_type": "markdown",
   "metadata": {},
   "source": [
    "**13.** Can you use IV also in non-linear models? If not, what would be an alternative?"
   ]
  },
  {
   "cell_type": "markdown",
   "metadata": {},
   "source": []
  },
  {
   "cell_type": "markdown",
   "metadata": {},
   "source": [
    "**14.** Estimate the model with the control funciton approach."
   ]
  },
  {
   "cell_type": "code",
   "execution_count": 31,
   "metadata": {},
   "outputs": [
    {
     "data": {
      "text/html": [
       "<table class=\"simpletable\">\n",
       "<caption>OLS Regression Results</caption>\n",
       "<tr>\n",
       "  <th>Dep. Variable:</th>          <td>lwage</td>      <th>  R-squared:         </th>  <td>   1.000</td> \n",
       "</tr>\n",
       "<tr>\n",
       "  <th>Model:</th>                   <td>OLS</td>       <th>  Adj. R-squared:    </th>  <td>   1.000</td> \n",
       "</tr>\n",
       "<tr>\n",
       "  <th>Method:</th>             <td>Least Squares</td>  <th>  F-statistic:       </th>  <td>3.039e+31</td>\n",
       "</tr>\n",
       "<tr>\n",
       "  <th>Date:</th>             <td>Mon, 19 Sep 2022</td> <th>  Prob (F-statistic):</th>   <td>  0.00</td>  \n",
       "</tr>\n",
       "<tr>\n",
       "  <th>Time:</th>                 <td>15:12:46</td>     <th>  Log-Likelihood:    </th>  <td>  13986.</td> \n",
       "</tr>\n",
       "<tr>\n",
       "  <th>No. Observations:</th>      <td>   428</td>      <th>  AIC:               </th> <td>-2.796e+04</td>\n",
       "</tr>\n",
       "<tr>\n",
       "  <th>Df Residuals:</th>          <td>   424</td>      <th>  BIC:               </th> <td>-2.795e+04</td>\n",
       "</tr>\n",
       "<tr>\n",
       "  <th>Df Model:</th>              <td>     3</td>      <th>                     </th>      <td> </td>    \n",
       "</tr>\n",
       "<tr>\n",
       "  <th>Covariance Type:</th>      <td>nonrobust</td>    <th>                     </th>      <td> </td>    \n",
       "</tr>\n",
       "</table>\n",
       "<table class=\"simpletable\">\n",
       "<tr>\n",
       "        <td></td>          <th>coef</th>     <th>std err</th>      <th>t</th>      <th>P>|t|</th>  <th>[0.025</th>    <th>0.975]</th>  \n",
       "</tr>\n",
       "<tr>\n",
       "  <th>Intercept</th>    <td>   -0.4002</td> <td> 4.45e-16</td> <td>-8.98e+14</td> <td> 0.000</td> <td>   -0.400</td> <td>   -0.400</td>\n",
       "</tr>\n",
       "<tr>\n",
       "  <th>educ</th>         <td>    0.1095</td> <td> 3.31e-17</td> <td>  3.3e+15</td> <td> 0.000</td> <td>    0.109</td> <td>    0.109</td>\n",
       "</tr>\n",
       "<tr>\n",
       "  <th>fstage_resid</th> <td>    1.0000</td> <td> 1.13e-16</td> <td> 8.81e+15</td> <td> 0.000</td> <td>    1.000</td> <td>    1.000</td>\n",
       "</tr>\n",
       "<tr>\n",
       "  <th>exper</th>        <td>    0.0157</td> <td>  9.4e-18</td> <td> 1.67e+15</td> <td> 0.000</td> <td>    0.016</td> <td>    0.016</td>\n",
       "</tr>\n",
       "</table>\n",
       "<table class=\"simpletable\">\n",
       "<tr>\n",
       "  <th>Omnibus:</th>       <td>10.923</td> <th>  Durbin-Watson:     </th> <td>   0.214</td>\n",
       "</tr>\n",
       "<tr>\n",
       "  <th>Prob(Omnibus):</th> <td> 0.004</td> <th>  Jarque-Bera (JB):  </th> <td>  11.409</td>\n",
       "</tr>\n",
       "<tr>\n",
       "  <th>Skew:</th>          <td> 0.398</td> <th>  Prob(JB):          </th> <td> 0.00333</td>\n",
       "</tr>\n",
       "<tr>\n",
       "  <th>Kurtosis:</th>      <td> 2.912</td> <th>  Cond. No.          </th> <td>    113.</td>\n",
       "</tr>\n",
       "</table><br/><br/>Notes:<br/>[1] Standard Errors assume that the covariance matrix of the errors is correctly specified."
      ],
      "text/plain": [
       "<class 'statsmodels.iolib.summary.Summary'>\n",
       "\"\"\"\n",
       "                            OLS Regression Results                            \n",
       "==============================================================================\n",
       "Dep. Variable:                  lwage   R-squared:                       1.000\n",
       "Model:                            OLS   Adj. R-squared:                  1.000\n",
       "Method:                 Least Squares   F-statistic:                 3.039e+31\n",
       "Date:                Mon, 19 Sep 2022   Prob (F-statistic):               0.00\n",
       "Time:                        15:12:46   Log-Likelihood:                 13986.\n",
       "No. Observations:                 428   AIC:                        -2.796e+04\n",
       "Df Residuals:                     424   BIC:                        -2.795e+04\n",
       "Df Model:                           3                                         \n",
       "Covariance Type:            nonrobust                                         \n",
       "================================================================================\n",
       "                   coef    std err          t      P>|t|      [0.025      0.975]\n",
       "--------------------------------------------------------------------------------\n",
       "Intercept       -0.4002   4.45e-16  -8.98e+14      0.000      -0.400      -0.400\n",
       "educ             0.1095   3.31e-17    3.3e+15      0.000       0.109       0.109\n",
       "fstage_resid     1.0000   1.13e-16   8.81e+15      0.000       1.000       1.000\n",
       "exper            0.0157    9.4e-18   1.67e+15      0.000       0.016       0.016\n",
       "==============================================================================\n",
       "Omnibus:                       10.923   Durbin-Watson:                   0.214\n",
       "Prob(Omnibus):                  0.004   Jarque-Bera (JB):               11.409\n",
       "Skew:                           0.398   Prob(JB):                      0.00333\n",
       "Kurtosis:                       2.912   Cond. No.                         113.\n",
       "==============================================================================\n",
       "\n",
       "Notes:\n",
       "[1] Standard Errors assume that the covariance matrix of the errors is correctly specified.\n",
       "\"\"\""
      ]
     },
     "execution_count": 31,
     "metadata": {},
     "output_type": "execute_result"
    }
   ],
   "source": [
    "# first stage\n",
    "fstage = smf.ols(formula='lwage ~ educ + exper', data=mroz)\n",
    "fstage_results = fstage.fit()\n",
    "fstage_resid = fstage_results.resid\n",
    "\n",
    "# second stage\n",
    "reg_control = smf.ols(formula='lwage ~ educ + fstage_resid + exper', data=mroz)\n",
    "results_control = reg_control.fit()\n",
    "results_control.summary()"
   ]
  }
 ],
 "metadata": {
  "kernelspec": {
   "display_name": "Python 3.9.5 ('base')",
   "language": "python",
   "name": "python3"
  },
  "language_info": {
   "codemirror_mode": {
    "name": "ipython",
    "version": 3
   },
   "file_extension": ".py",
   "mimetype": "text/x-python",
   "name": "python",
   "nbconvert_exporter": "python",
   "pygments_lexer": "ipython3",
   "version": "3.9.5"
  },
  "toc": {
   "base_numbering": 1,
   "nav_menu": {},
   "number_sections": true,
   "sideBar": true,
   "skip_h1_title": true,
   "title_cell": "Table of Contents",
   "title_sidebar": "Contents",
   "toc_cell": false,
   "toc_position": {},
   "toc_section_display": true,
   "toc_window_display": true
  },
  "varInspector": {
   "cols": {
    "lenName": 16,
    "lenType": 16,
    "lenVar": 40
   },
   "kernels_config": {
    "python": {
     "delete_cmd_postfix": "",
     "delete_cmd_prefix": "del ",
     "library": "var_list.py",
     "varRefreshCmd": "print(var_dic_list())"
    },
    "r": {
     "delete_cmd_postfix": ") ",
     "delete_cmd_prefix": "rm(",
     "library": "var_list.r",
     "varRefreshCmd": "cat(var_dic_list()) "
    }
   },
   "types_to_exclude": [
    "module",
    "function",
    "builtin_function_or_method",
    "instance",
    "_Feature"
   ],
   "window_display": false
  },
  "vscode": {
   "interpreter": {
    "hash": "3d597f4c481aa0f25dceb95d2a0067e73c0966dcbd003d741d821a7208527ecf"
   }
  }
 },
 "nbformat": 4,
 "nbformat_minor": 2
}
