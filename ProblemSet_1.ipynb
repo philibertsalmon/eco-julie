{
 "cells": [
  {
   "cell_type": "markdown",
   "metadata": {},
   "source": [
    "# Problem Set 1"
   ]
  },
  {
   "cell_type": "markdown",
   "metadata": {},
   "source": [
    "## Problem 1\n",
    "\n",
    "- Use the dataset `cig85_95`\n",
    "\n",
    "The data was used in the top economics journal American Economic Review (AER) to analyze if the package prices of cigarettes influence how much people smoke"
   ]
  },
  {
   "cell_type": "markdown",
   "metadata": {},
   "source": [
    "The data set consists of annual data for the 48 continental U.S. states from 1985 - 1995,  derived from state tax collection data\n",
    "\n",
    "- Quantity consumed is measured by annual per capita cigarette sales in packs per fiscal year.  \n",
    "- The price is the average retail cigarette price per pack during the fiscal year, including taxes.\n",
    "- Income is per capita income.  \n",
    "- The general sales tax is the average tax, in cents per pack, due to the broad-based state sales  tax applied to all consumption goods. \n",
    "- The cigarette-specific tax is the tax applied to cigarettes only.  \n",
    "- All prices, income, and taxes used in the regressions in this chapter are deflated by the Consumer Price Index and thus are in real dollars.  \n",
    "\n",
    "We are grateful to Professor Jonathan Gruber of MIT for providing us with these data."
   ]
  },
  {
   "cell_type": "markdown",
   "metadata": {},
   "source": [
    "The dataset is in the `.dta` format and also contains additional information per column which you can extract using\n",
    "```python\n",
    "df.variable_labels()\n",
    "```\n",
    "where `df` is the name of the dataframe.\n",
    "\n",
    "To make this work, you have to add `,iterator=True` before the closing parenthesis when you load the dataframe. \n",
    "This will give you a better understanding on the meaning of the variables.\n",
    "\n",
    "However, some commands don't work after that, so you need to load the dataframe again in a new cell to execute further analysis and data manipulation.\n",
    "\n"
   ]
  },
  {
   "cell_type": "markdown",
   "metadata": {},
   "source": [
    "1. What type of dataset do we have and how do you see this?\n",
    "1. How many observations (rows) does the dataset contain?\n",
    "1. How many years are covered?\n",
    "1. How many states?\n",
    "1. What is the mean, minimum and maximum of the column pop?\n",
    "1. What is the mean, minimum and maximum of column packpc in AL (Alabama)?\n",
    "1. What is the mean of the column income in Texas in 1995?\n",
    "1. How many distinct values does cpi have?\n",
    "1. Generate a new column which is the logarithm of taxs and call it log_taxs\n",
    "1. Plot the square of avgprs against packpc and make the plot look nice\n",
    "1. Plot a histogram of the logarithm of taxes\n",
    "1. Add a column to the dataset that consists only of 4s and call it fours\n",
    "1. Replace rows 3 to 5 of column named four (the one you just made) by 0"
   ]
  },
  {
   "cell_type": "code",
   "execution_count": 1,
   "metadata": {},
   "outputs": [],
   "source": [
    "import pandas as pd\n",
    "import numpy as np\n",
    "import matplotlib.pyplot as plt\n",
    "import statsmodels.formula.api as smf"
   ]
  },
  {
   "cell_type": "code",
   "execution_count": 2,
   "metadata": {},
   "outputs": [
    {
     "data": {
      "text/plain": [
       "{'state': '',\n",
       " 'year': '',\n",
       " 'cpi': '',\n",
       " 'pop': 'population from RAs before 1990; from web for 1990-2000',\n",
       " 'packpc': 'packs per capita = packs/pop',\n",
       " 'income': 'state personal income (total, nominal)',\n",
       " 'tax': 'average state, federal, and average local excise taxes for   fiscal year',\n",
       " 'avgprs': 'average price during fiscal year, including sales taxes',\n",
       " 'taxs': 'average excise taxes for fiscal year, including sales taxes'}"
      ]
     },
     "execution_count": 2,
     "metadata": {},
     "output_type": "execute_result"
    }
   ],
   "source": [
    "df0 = pd.read_stata('data/cig85_95.dta', iterator=True)\n",
    "df0.variable_labels()"
   ]
  },
  {
   "cell_type": "markdown",
   "metadata": {},
   "source": [
    "**1.** What type of data set do we have and how do you see this?"
   ]
  },
  {
   "cell_type": "code",
   "execution_count": 3,
   "metadata": {},
   "outputs": [
    {
     "data": {
      "text/html": [
       "<div>\n",
       "<style scoped>\n",
       "    .dataframe tbody tr th:only-of-type {\n",
       "        vertical-align: middle;\n",
       "    }\n",
       "\n",
       "    .dataframe tbody tr th {\n",
       "        vertical-align: top;\n",
       "    }\n",
       "\n",
       "    .dataframe thead th {\n",
       "        text-align: right;\n",
       "    }\n",
       "</style>\n",
       "<table border=\"1\" class=\"dataframe\">\n",
       "  <thead>\n",
       "    <tr style=\"text-align: right;\">\n",
       "      <th></th>\n",
       "      <th>state</th>\n",
       "      <th>year</th>\n",
       "      <th>cpi</th>\n",
       "      <th>pop</th>\n",
       "      <th>packpc</th>\n",
       "      <th>income</th>\n",
       "      <th>tax</th>\n",
       "      <th>avgprs</th>\n",
       "      <th>taxs</th>\n",
       "    </tr>\n",
       "  </thead>\n",
       "  <tbody>\n",
       "    <tr>\n",
       "      <th>0</th>\n",
       "      <td>AL</td>\n",
       "      <td>1985.0</td>\n",
       "      <td>1.076</td>\n",
       "      <td>3973000.0</td>\n",
       "      <td>116.486282</td>\n",
       "      <td>46014968.0</td>\n",
       "      <td>32.500004</td>\n",
       "      <td>102.181671</td>\n",
       "      <td>33.348335</td>\n",
       "    </tr>\n",
       "    <tr>\n",
       "      <th>1</th>\n",
       "      <td>AR</td>\n",
       "      <td>1985.0</td>\n",
       "      <td>1.076</td>\n",
       "      <td>2327000.0</td>\n",
       "      <td>128.534592</td>\n",
       "      <td>26210736.0</td>\n",
       "      <td>37.000000</td>\n",
       "      <td>101.474998</td>\n",
       "      <td>37.000000</td>\n",
       "    </tr>\n",
       "    <tr>\n",
       "      <th>2</th>\n",
       "      <td>AZ</td>\n",
       "      <td>1985.0</td>\n",
       "      <td>1.076</td>\n",
       "      <td>3184000.0</td>\n",
       "      <td>104.522614</td>\n",
       "      <td>43956936.0</td>\n",
       "      <td>31.000000</td>\n",
       "      <td>108.578751</td>\n",
       "      <td>36.170418</td>\n",
       "    </tr>\n",
       "    <tr>\n",
       "      <th>3</th>\n",
       "      <td>CA</td>\n",
       "      <td>1985.0</td>\n",
       "      <td>1.076</td>\n",
       "      <td>26444000.0</td>\n",
       "      <td>100.363037</td>\n",
       "      <td>447102816.0</td>\n",
       "      <td>26.000000</td>\n",
       "      <td>107.837341</td>\n",
       "      <td>32.104000</td>\n",
       "    </tr>\n",
       "    <tr>\n",
       "      <th>4</th>\n",
       "      <td>CO</td>\n",
       "      <td>1985.0</td>\n",
       "      <td>1.076</td>\n",
       "      <td>3209000.0</td>\n",
       "      <td>112.963539</td>\n",
       "      <td>49466672.0</td>\n",
       "      <td>31.000000</td>\n",
       "      <td>94.266663</td>\n",
       "      <td>31.000000</td>\n",
       "    </tr>\n",
       "  </tbody>\n",
       "</table>\n",
       "</div>"
      ],
      "text/plain": [
       "  state    year    cpi         pop      packpc       income        tax  \\\n",
       "0    AL  1985.0  1.076   3973000.0  116.486282   46014968.0  32.500004   \n",
       "1    AR  1985.0  1.076   2327000.0  128.534592   26210736.0  37.000000   \n",
       "2    AZ  1985.0  1.076   3184000.0  104.522614   43956936.0  31.000000   \n",
       "3    CA  1985.0  1.076  26444000.0  100.363037  447102816.0  26.000000   \n",
       "4    CO  1985.0  1.076   3209000.0  112.963539   49466672.0  31.000000   \n",
       "\n",
       "       avgprs       taxs  \n",
       "0  102.181671  33.348335  \n",
       "1  101.474998  37.000000  \n",
       "2  108.578751  36.170418  \n",
       "3  107.837341  32.104000  \n",
       "4   94.266663  31.000000  "
      ]
     },
     "execution_count": 3,
     "metadata": {},
     "output_type": "execute_result"
    }
   ],
   "source": [
    "df = pd.read_stata('data/cig85_95.dta')\n",
    "df.head()"
   ]
  },
  {
   "cell_type": "markdown",
   "metadata": {},
   "source": [
    "It's a pooled cross section."
   ]
  },
  {
   "cell_type": "markdown",
   "metadata": {},
   "source": [
    "**2.**"
   ]
  },
  {
   "cell_type": "code",
   "execution_count": 4,
   "metadata": {},
   "outputs": [
    {
     "name": "stdout",
     "output_type": "stream",
     "text": [
      "(528, 9)\n"
     ]
    }
   ],
   "source": [
    "print(df.shape)"
   ]
  },
  {
   "cell_type": "markdown",
   "metadata": {},
   "source": [
    "The data set contains 528 observations."
   ]
  },
  {
   "cell_type": "markdown",
   "metadata": {},
   "source": [
    "**3.** How many years are covered?"
   ]
  },
  {
   "cell_type": "code",
   "execution_count": 5,
   "metadata": {},
   "outputs": [
    {
     "data": {
      "text/plain": [
       "11"
      ]
     },
     "execution_count": 5,
     "metadata": {},
     "output_type": "execute_result"
    }
   ],
   "source": [
    "len(df['year'].unique())"
   ]
  },
  {
   "cell_type": "markdown",
   "metadata": {},
   "source": [
    "11 years are covered by the dataframe."
   ]
  },
  {
   "cell_type": "markdown",
   "metadata": {},
   "source": [
    "**4.** How many states?"
   ]
  },
  {
   "cell_type": "code",
   "execution_count": 6,
   "metadata": {},
   "outputs": [
    {
     "data": {
      "text/plain": [
       "48"
      ]
     },
     "execution_count": 6,
     "metadata": {},
     "output_type": "execute_result"
    }
   ],
   "source": [
    "len(df['state'].unique())"
   ]
  },
  {
   "cell_type": "markdown",
   "metadata": {},
   "source": [
    "The dataframe covers 48 states."
   ]
  },
  {
   "cell_type": "markdown",
   "metadata": {},
   "source": [
    "**5.** Whats is the mean, minimum and maximum of the column pop?"
   ]
  },
  {
   "cell_type": "code",
   "execution_count": 7,
   "metadata": {},
   "outputs": [
    {
     "name": "stdout",
     "output_type": "stream",
     "text": [
      "Mean of pop: 5159738.5\n",
      "Min of pop: 453401.0\n",
      "Max of pop: 31493524.0\n"
     ]
    }
   ],
   "source": [
    "print(f\"Mean of pop: {df['pop'].mean()}\")\n",
    "print(f\"Min of pop: {df['pop'].min()}\")\n",
    "print(f\"Max of pop: {df['pop'].max()}\")"
   ]
  },
  {
   "cell_type": "markdown",
   "metadata": {},
   "source": [
    "**6.** Whats is the mean, minimum and maximum of column packpc in AL ?"
   ]
  },
  {
   "cell_type": "code",
   "execution_count": 8,
   "metadata": {},
   "outputs": [
    {
     "name": "stdout",
     "output_type": "stream",
     "text": [
      "Mean of packpc: 109.91625213623047\n",
      "Min of packpc: 101.08543395996094\n",
      "Max of packpc: 117.15931701660156\n"
     ]
    }
   ],
   "source": [
    "print(f\"Mean of packpc: {df['packpc'][df.state == 'AL'].mean()}\")\n",
    "print(f\"Min of packpc: {df['packpc'][df.state == 'AL'].min()}\")\n",
    "print(f\"Max of packpc: {df['packpc'][df.state == 'AL'].max()}\")"
   ]
  },
  {
   "cell_type": "markdown",
   "metadata": {},
   "source": [
    "**7.** What is the mean of the column income in Texas in 1995?"
   ]
  },
  {
   "cell_type": "code",
   "execution_count": 9,
   "metadata": {},
   "outputs": [
    {
     "name": "stdout",
     "output_type": "stream",
     "text": [
      "Mean of income in Texas in 1995: 402096768.0\n"
     ]
    }
   ],
   "source": [
    "print(f\"Mean of income in Texas in 1995: {float(df['income'][df.year == 1995][df.state == 'TX'])}\")"
   ]
  },
  {
   "cell_type": "markdown",
   "metadata": {},
   "source": [
    "**8.** How many distinct values does cpi have?"
   ]
  },
  {
   "cell_type": "code",
   "execution_count": 10,
   "metadata": {},
   "outputs": [
    {
     "name": "stdout",
     "output_type": "stream",
     "text": [
      "Distinct values of cpi: 11\n"
     ]
    }
   ],
   "source": [
    "print(f\"Distinct values of cpi: {len(df.cpi.unique())}\")"
   ]
  },
  {
   "cell_type": "markdown",
   "metadata": {},
   "source": [
    "**9.** Generate a new column which is the logarithm af taxs and call it log_taxs."
   ]
  },
  {
   "cell_type": "code",
   "execution_count": 11,
   "metadata": {},
   "outputs": [],
   "source": [
    "df['log_taxs'] = np.log(df['taxs'])"
   ]
  },
  {
   "cell_type": "markdown",
   "metadata": {},
   "source": [
    "**10.** Plot the square of avgprs against packpc and make the plot look nice."
   ]
  },
  {
   "cell_type": "code",
   "execution_count": 12,
   "metadata": {},
   "outputs": [
    {
     "data": {
      "image/png": "[encoded data removed]",
      "text/plain": [
       "<Figure size 432x288 with 1 Axes>"
      ]
     },
     "metadata": {
      "needs_background": "light"
     },
     "output_type": "display_data"
    }
   ],
   "source": [
    "avgprs_square = df['avgprs']**2\n",
    "plt.scatter(avgprs_square, df['packpc'])\n",
    "plt.title('Correlation between consumption and price')\n",
    "plt.xlabel('Price of a pack, squarred')\n",
    "plt.ylabel('Packs per capita')\n",
    "plt.show()"
   ]
  },
  {
   "cell_type": "markdown",
   "metadata": {},
   "source": [
    "**11.** Plot a histogram of the logarithm of taxes."
   ]
  },
  {
   "cell_type": "code",
   "execution_count": 13,
   "metadata": {},
   "outputs": [
    {
     "data": {
      "image/png": "[encoded data removed]",
      "text/plain": [
       "<Figure size 432x288 with 1 Axes>"
      ]
     },
     "metadata": {
      "needs_background": "light"
     },
     "output_type": "display_data"
    }
   ],
   "source": [
    "plt.hist(df['log_taxs'])\n",
    "plt.title('Histogram of average excise taxes, accross the years and the states')\n",
    "plt.xlabel('Log of the average excise taxes')\n",
    "plt.ylabel('Occurences')\n",
    "plt.show()"
   ]
  },
  {
   "cell_type": "markdown",
   "metadata": {},
   "source": [
    "**12.** Add a column to the dataset that consists only of 4s and call it fours."
   ]
  },
  {
   "cell_type": "code",
   "execution_count": 14,
   "metadata": {},
   "outputs": [],
   "source": [
    "df['fours'] = 4."
   ]
  },
  {
   "cell_type": "markdown",
   "metadata": {},
   "source": [
    "**13.** Replace rows 3 to 5 of column named four"
   ]
  },
  {
   "cell_type": "code",
   "execution_count": 15,
   "metadata": {},
   "outputs": [
    {
     "data": {
      "text/plain": [
       "3    4.0\n",
       "4    4.0\n",
       "Name: fours, dtype: float64"
      ]
     },
     "execution_count": 15,
     "metadata": {},
     "output_type": "execute_result"
    }
   ],
   "source": [
    "df.iloc[3:5]['fours']"
   ]
  },
  {
   "cell_type": "code",
   "execution_count": 16,
   "metadata": {},
   "outputs": [
    {
     "data": {
      "text/html": [
       "<div>\n",
       "<style scoped>\n",
       "    .dataframe tbody tr th:only-of-type {\n",
       "        vertical-align: middle;\n",
       "    }\n",
       "\n",
       "    .dataframe tbody tr th {\n",
       "        vertical-align: top;\n",
       "    }\n",
       "\n",
       "    .dataframe thead th {\n",
       "        text-align: right;\n",
       "    }\n",
       "</style>\n",
       "<table border=\"1\" class=\"dataframe\">\n",
       "  <thead>\n",
       "    <tr style=\"text-align: right;\">\n",
       "      <th></th>\n",
       "      <th>state</th>\n",
       "      <th>year</th>\n",
       "      <th>cpi</th>\n",
       "      <th>pop</th>\n",
       "      <th>packpc</th>\n",
       "      <th>income</th>\n",
       "      <th>tax</th>\n",
       "      <th>avgprs</th>\n",
       "      <th>taxs</th>\n",
       "      <th>log_taxs</th>\n",
       "      <th>fours</th>\n",
       "    </tr>\n",
       "  </thead>\n",
       "  <tbody>\n",
       "    <tr>\n",
       "      <th>0</th>\n",
       "      <td>AL</td>\n",
       "      <td>1985.0</td>\n",
       "      <td>1.076</td>\n",
       "      <td>3973000.0</td>\n",
       "      <td>116.486282</td>\n",
       "      <td>46014968.0</td>\n",
       "      <td>32.500004</td>\n",
       "      <td>102.181671</td>\n",
       "      <td>33.348335</td>\n",
       "      <td>3.507008</td>\n",
       "      <td>4.0</td>\n",
       "    </tr>\n",
       "    <tr>\n",
       "      <th>1</th>\n",
       "      <td>AR</td>\n",
       "      <td>1985.0</td>\n",
       "      <td>1.076</td>\n",
       "      <td>2327000.0</td>\n",
       "      <td>128.534592</td>\n",
       "      <td>26210736.0</td>\n",
       "      <td>37.000000</td>\n",
       "      <td>101.474998</td>\n",
       "      <td>37.000000</td>\n",
       "      <td>3.610918</td>\n",
       "      <td>4.0</td>\n",
       "    </tr>\n",
       "    <tr>\n",
       "      <th>2</th>\n",
       "      <td>AZ</td>\n",
       "      <td>1985.0</td>\n",
       "      <td>1.076</td>\n",
       "      <td>3184000.0</td>\n",
       "      <td>104.522614</td>\n",
       "      <td>43956936.0</td>\n",
       "      <td>31.000000</td>\n",
       "      <td>108.578751</td>\n",
       "      <td>36.170418</td>\n",
       "      <td>3.588242</td>\n",
       "      <td>0.0</td>\n",
       "    </tr>\n",
       "    <tr>\n",
       "      <th>3</th>\n",
       "      <td>CA</td>\n",
       "      <td>1985.0</td>\n",
       "      <td>1.076</td>\n",
       "      <td>26444000.0</td>\n",
       "      <td>100.363037</td>\n",
       "      <td>447102816.0</td>\n",
       "      <td>26.000000</td>\n",
       "      <td>107.837341</td>\n",
       "      <td>32.104000</td>\n",
       "      <td>3.468981</td>\n",
       "      <td>0.0</td>\n",
       "    </tr>\n",
       "    <tr>\n",
       "      <th>4</th>\n",
       "      <td>CO</td>\n",
       "      <td>1985.0</td>\n",
       "      <td>1.076</td>\n",
       "      <td>3209000.0</td>\n",
       "      <td>112.963539</td>\n",
       "      <td>49466672.0</td>\n",
       "      <td>31.000000</td>\n",
       "      <td>94.266663</td>\n",
       "      <td>31.000000</td>\n",
       "      <td>3.433987</td>\n",
       "      <td>0.0</td>\n",
       "    </tr>\n",
       "    <tr>\n",
       "      <th>5</th>\n",
       "      <td>CT</td>\n",
       "      <td>1985.0</td>\n",
       "      <td>1.076</td>\n",
       "      <td>3201000.0</td>\n",
       "      <td>109.278351</td>\n",
       "      <td>60063368.0</td>\n",
       "      <td>42.000000</td>\n",
       "      <td>128.024994</td>\n",
       "      <td>51.483334</td>\n",
       "      <td>3.941258</td>\n",
       "      <td>0.0</td>\n",
       "    </tr>\n",
       "    <tr>\n",
       "      <th>6</th>\n",
       "      <td>DE</td>\n",
       "      <td>1985.0</td>\n",
       "      <td>1.076</td>\n",
       "      <td>618000.0</td>\n",
       "      <td>143.851135</td>\n",
       "      <td>9927301.0</td>\n",
       "      <td>30.000000</td>\n",
       "      <td>102.491661</td>\n",
       "      <td>30.000000</td>\n",
       "      <td>3.401197</td>\n",
       "      <td>4.0</td>\n",
       "    </tr>\n",
       "  </tbody>\n",
       "</table>\n",
       "</div>"
      ],
      "text/plain": [
       "  state    year    cpi         pop      packpc       income        tax  \\\n",
       "0    AL  1985.0  1.076   3973000.0  116.486282   46014968.0  32.500004   \n",
       "1    AR  1985.0  1.076   2327000.0  128.534592   26210736.0  37.000000   \n",
       "2    AZ  1985.0  1.076   3184000.0  104.522614   43956936.0  31.000000   \n",
       "3    CA  1985.0  1.076  26444000.0  100.363037  447102816.0  26.000000   \n",
       "4    CO  1985.0  1.076   3209000.0  112.963539   49466672.0  31.000000   \n",
       "5    CT  1985.0  1.076   3201000.0  109.278351   60063368.0  42.000000   \n",
       "6    DE  1985.0  1.076    618000.0  143.851135    9927301.0  30.000000   \n",
       "\n",
       "       avgprs       taxs  log_taxs  fours  \n",
       "0  102.181671  33.348335  3.507008    4.0  \n",
       "1  101.474998  37.000000  3.610918    4.0  \n",
       "2  108.578751  36.170418  3.588242    0.0  \n",
       "3  107.837341  32.104000  3.468981    0.0  \n",
       "4   94.266663  31.000000  3.433987    0.0  \n",
       "5  128.024994  51.483334  3.941258    0.0  \n",
       "6  102.491661  30.000000  3.401197    4.0  "
      ]
     },
     "execution_count": 16,
     "metadata": {},
     "output_type": "execute_result"
    }
   ],
   "source": [
    "df.loc[2:5,'fours'] = 0.\n",
    "df.head(7)"
   ]
  },
  {
   "cell_type": "markdown",
   "metadata": {},
   "source": [
    "# Problem 2"
   ]
  },
  {
   "cell_type": "markdown",
   "metadata": {},
   "source": [
    "**Experiment on the Effect of Class Size Reductions**\n",
    "\n",
    "In experiment it was attempted to asses the effect of reducing class size  on test scores in the early grades. In the late 1980s, Tennessee conducted a large, multimillion-dollar randomized controlled experiment to ascertain\n",
    "whether class size reduction was an effective way to improve elementary education.\n",
    "The results of this experiment have strongly influenced our understanding of the effect of class size reductions."
   ]
  },
  {
   "cell_type": "markdown",
   "metadata": {},
   "source": [
    "**Experimental Design**\n",
    "\n",
    "<blockquote> The Tennessee class size reduction experiment, known as Project STAR (Student–\n",
    "Teacher Achievement Ratio), was a 4-year experiment designed to evaluate the effect\n",
    "on learning of small class sizes. Funded by the Tennessee state legislature, the experiment\n",
    "cost approximately $12 million. The study compared three different class arrangements\n",
    "for kindergarten through third grade: a regular-sized class, with 22 to 25 students\n",
    "per class, a single teacher, and no teacher’s aide; a small class, with 13 to 17 students per\n",
    "class and no teacher’s aide; and a regular-sized class with a teacher’s aide.\n",
    "Each school participating in the experiment had at least one class of each type,\n",
    "and students entering kindergarten in a participating school were randomly assigned\n",
    "to one of these three groups at the beginning of the 1985–1986 academic year. Teachers\n",
    "were also assigned randomly to one of the three types of classes.\n",
    "According to the original experimental protocol, students would stay in their initially\n",
    "assigned class type for the 4 years of the experiment (kindergarten through third\n",
    "grade). However, because of parent complaints, students initially assigned to a regular\n",
    "class (with or without an aide) were randomly reassigned at the beginning of first grade\n",
    "to a regular class with an aide or to a regular class without an aide; students initially\n",
    "assigned to a small class remained in a small class. Students entering school in first\n",
    "grade (kindergarten was optional), in the second year of the experiment, were randomly\n",
    "assigned to one of the three groups. Each year students in the experiment were\n",
    "given standardized tests (the Stanford Achievement Test) in reading and math.\n",
    "The project paid for the additional teachers and aides necessary to achieve the\n",
    "target class sizes. During the first year of the study, approximately 6400 students\n",
    "participated in 108 small classes, 101 regular-sized classes, and 99 regular-sized classes\n",
    "with an aide. Over all 4 years of the study, a total of approximately 11,600 students\n",
    "at 80 schools participated in the study."
   ]
  },
  {
   "cell_type": "markdown",
   "metadata": {},
   "source": [
    "Please use the `webstar.dta` data.\n",
    "    \n"
   ]
  },
  {
   "cell_type": "code",
   "execution_count": 17,
   "metadata": {},
   "outputs": [
    {
     "data": {
      "text/plain": [
       "{'newid': 'new student id for public star datasets',\n",
       " 'ssex': 'student sex   (1m2f)',\n",
       " 'srace': 'student race  (1w2b3a4h5i6o)',\n",
       " 'sbirthq': 'quater of students birth',\n",
       " 'sbirthy': 'year of students birth',\n",
       " 'stark': 'attend project star class in kindergarten',\n",
       " 'star1': 'attend project star class in 1st grade',\n",
       " 'star2': 'attend project star class in 2nd grade',\n",
       " 'star3': 'attend project star class in 3rd grade',\n",
       " 'cltypek': 'classroom type  (1s2r3ra) in kindergarten',\n",
       " 'cltype1': 'classroom type  (1s2r3ra) in first grade',\n",
       " 'cltype2': 'classroom type  (1s2r3ra) in second grade',\n",
       " 'cltype3': 'classroom type  (1s2r3ra) in third grade',\n",
       " 'schtypek': 'school type - (1i2s3r4u) in kindergarten',\n",
       " 'hdegk': 'highest degree (tch) of kindergarten teacher',\n",
       " 'cladk': 'teacher career ladder level in kindergarten',\n",
       " 'totexpk': 'years of total teaching experience - kindergarten',\n",
       " 'tracek': 'teacher race  (1w2b3a4h5i6o) in kindergarten',\n",
       " 'treadssk': 'total reading scaled score - sesat ii stanford',\n",
       " 'tmathssk': 'total math scaled score - sesat ii stanford',\n",
       " 'sesk': 'socio-economic status in kindergarten',\n",
       " 'schtype1': 'school type - (1i2s3r4u) in first grade',\n",
       " 'trace1': 'teacher race  (1w2b3a4h5i6o) in 1st grade',\n",
       " 'hdeg1': 'highest degree (tch) of 1st grade teacher',\n",
       " 'clad1': 'teacher career ladder level in 1st grade',\n",
       " 'totexp1': 'years of total teaching experience - 1st grade',\n",
       " 'treadss1': 'total reading scaled score - primary 1 stanford',\n",
       " 'tmathss1': 'total math scaled score - primary 1 stanford',\n",
       " 'ses1': 'socio-economic status in 1st grade',\n",
       " 'schtype2': 'school type - (1i2s3r4u) in 2nd grade',\n",
       " 'trace2': 'teacher race  (1w2b3a4h5i6o) in 2nd grade',\n",
       " 'hdeg2': 'highest degree (tch) of 2nd grade teacher',\n",
       " 'clad2': 'teacher career ladder level in 2nd grade',\n",
       " 'totexp2': 'years of total teaching experience - 2nd grade',\n",
       " 'treadss2': 'total reading scaled score - primary 2 stanford',\n",
       " 'tmathss2': 'total math scaled score - primary 2 stanford',\n",
       " 'ses2': 'socio-economic status in 2nd grade',\n",
       " 'schtype3': 'school type - (1i2s3r4u) in third grade',\n",
       " 'treadss3': 'total reading scaled score - primary 3 stanford',\n",
       " 'tmathss3': 'total math scaled score - primary 3 stanford',\n",
       " 'ses3': 'socio-economic status in 3rd grade',\n",
       " 'trace3': 'teacher race  (1w2b3a4h5i6o) in 3rd grade',\n",
       " 'hdeg3': 'highest degree (tch) of 3rd grade teacher',\n",
       " 'clad3': 'teacher career ladder level in 3rd grade',\n",
       " 'totexp3': 'years of total teaching experience -  3rd grade',\n",
       " 'sysidkn': 'sch system id-k (new) kindergarten',\n",
       " 'sysid1n': 'sch system id-g1 (new) 1st grade',\n",
       " 'sysid2n': 'sch system id-g2 (new) 2nd grade',\n",
       " 'sysid3n': 'sch system id-g3 (new) 3rd grade',\n",
       " 'schidkn': 'school id-k (new) kindergarten',\n",
       " 'schid1n': 'school id-g1 (new) 1st grade',\n",
       " 'schid2n': 'school id-g2 (new) 2nd grade',\n",
       " 'schid3n': 'school id-g3 (new) 3rd grade'}"
      ]
     },
     "execution_count": 17,
     "metadata": {},
     "output_type": "execute_result"
    }
   ],
   "source": [
    "df0 = pd.read_stata('data/webstar.dta', iterator='True')\n",
    "df0.variable_labels()"
   ]
  },
  {
   "cell_type": "code",
   "execution_count": 18,
   "metadata": {},
   "outputs": [
    {
     "data": {
      "text/html": [
       "<div>\n",
       "<style scoped>\n",
       "    .dataframe tbody tr th:only-of-type {\n",
       "        vertical-align: middle;\n",
       "    }\n",
       "\n",
       "    .dataframe tbody tr th {\n",
       "        vertical-align: top;\n",
       "    }\n",
       "\n",
       "    .dataframe thead th {\n",
       "        text-align: right;\n",
       "    }\n",
       "</style>\n",
       "<table border=\"1\" class=\"dataframe\">\n",
       "  <thead>\n",
       "    <tr style=\"text-align: right;\">\n",
       "      <th></th>\n",
       "      <th>newid</th>\n",
       "      <th>ssex</th>\n",
       "      <th>srace</th>\n",
       "      <th>sbirthq</th>\n",
       "      <th>sbirthy</th>\n",
       "      <th>stark</th>\n",
       "      <th>star1</th>\n",
       "      <th>star2</th>\n",
       "      <th>star3</th>\n",
       "      <th>cltypek</th>\n",
       "      <th>...</th>\n",
       "      <th>clad3</th>\n",
       "      <th>totexp3</th>\n",
       "      <th>sysidkn</th>\n",
       "      <th>sysid1n</th>\n",
       "      <th>sysid2n</th>\n",
       "      <th>sysid3n</th>\n",
       "      <th>schidkn</th>\n",
       "      <th>schid1n</th>\n",
       "      <th>schid2n</th>\n",
       "      <th>schid3n</th>\n",
       "    </tr>\n",
       "  </thead>\n",
       "  <tbody>\n",
       "    <tr>\n",
       "      <th>0</th>\n",
       "      <td>1122</td>\n",
       "      <td>female</td>\n",
       "      <td>black</td>\n",
       "      <td>3rd qtr - july,aug,sept</td>\n",
       "      <td>1979.0</td>\n",
       "      <td>no</td>\n",
       "      <td>no</td>\n",
       "      <td>no</td>\n",
       "      <td>yes</td>\n",
       "      <td>NaN</td>\n",
       "      <td>...</td>\n",
       "      <td>ladder level 1</td>\n",
       "      <td>30.0</td>\n",
       "      <td>NaN</td>\n",
       "      <td>NaN</td>\n",
       "      <td>NaN</td>\n",
       "      <td>22.0</td>\n",
       "      <td>NaN</td>\n",
       "      <td>NaN</td>\n",
       "      <td>NaN</td>\n",
       "      <td>54.0</td>\n",
       "    </tr>\n",
       "    <tr>\n",
       "      <th>1</th>\n",
       "      <td>1137</td>\n",
       "      <td>female</td>\n",
       "      <td>white</td>\n",
       "      <td>1st qtr - jan,feb,march</td>\n",
       "      <td>1980.0</td>\n",
       "      <td>yes</td>\n",
       "      <td>yes</td>\n",
       "      <td>yes</td>\n",
       "      <td>yes</td>\n",
       "      <td>small class</td>\n",
       "      <td>...</td>\n",
       "      <td>apprentice</td>\n",
       "      <td>1.0</td>\n",
       "      <td>30.0</td>\n",
       "      <td>30.0</td>\n",
       "      <td>30.0</td>\n",
       "      <td>30.0</td>\n",
       "      <td>63.0</td>\n",
       "      <td>63.0</td>\n",
       "      <td>63.0</td>\n",
       "      <td>63.0</td>\n",
       "    </tr>\n",
       "    <tr>\n",
       "      <th>2</th>\n",
       "      <td>1143</td>\n",
       "      <td>female</td>\n",
       "      <td>black</td>\n",
       "      <td>4th qtr - oct,nov,dec</td>\n",
       "      <td>1979.0</td>\n",
       "      <td>yes</td>\n",
       "      <td>yes</td>\n",
       "      <td>yes</td>\n",
       "      <td>yes</td>\n",
       "      <td>small class</td>\n",
       "      <td>...</td>\n",
       "      <td>ladder level 1</td>\n",
       "      <td>4.0</td>\n",
       "      <td>11.0</td>\n",
       "      <td>11.0</td>\n",
       "      <td>11.0</td>\n",
       "      <td>11.0</td>\n",
       "      <td>20.0</td>\n",
       "      <td>20.0</td>\n",
       "      <td>20.0</td>\n",
       "      <td>20.0</td>\n",
       "    </tr>\n",
       "    <tr>\n",
       "      <th>3</th>\n",
       "      <td>1160</td>\n",
       "      <td>male</td>\n",
       "      <td>white</td>\n",
       "      <td>4th qtr - oct,nov,dec</td>\n",
       "      <td>1979.0</td>\n",
       "      <td>no</td>\n",
       "      <td>no</td>\n",
       "      <td>no</td>\n",
       "      <td>yes</td>\n",
       "      <td>NaN</td>\n",
       "      <td>...</td>\n",
       "      <td>ladder level 1</td>\n",
       "      <td>10.0</td>\n",
       "      <td>NaN</td>\n",
       "      <td>NaN</td>\n",
       "      <td>NaN</td>\n",
       "      <td>6.0</td>\n",
       "      <td>NaN</td>\n",
       "      <td>NaN</td>\n",
       "      <td>NaN</td>\n",
       "      <td>8.0</td>\n",
       "    </tr>\n",
       "    <tr>\n",
       "      <th>4</th>\n",
       "      <td>1183</td>\n",
       "      <td>male</td>\n",
       "      <td>black</td>\n",
       "      <td>1st qtr - jan,feb,march</td>\n",
       "      <td>1980.0</td>\n",
       "      <td>yes</td>\n",
       "      <td>no</td>\n",
       "      <td>no</td>\n",
       "      <td>no</td>\n",
       "      <td>regular + aide class</td>\n",
       "      <td>...</td>\n",
       "      <td>NaN</td>\n",
       "      <td>NaN</td>\n",
       "      <td>11.0</td>\n",
       "      <td>NaN</td>\n",
       "      <td>NaN</td>\n",
       "      <td>NaN</td>\n",
       "      <td>19.0</td>\n",
       "      <td>NaN</td>\n",
       "      <td>NaN</td>\n",
       "      <td>NaN</td>\n",
       "    </tr>\n",
       "  </tbody>\n",
       "</table>\n",
       "<p>5 rows × 53 columns</p>\n",
       "</div>"
      ],
      "text/plain": [
       "  newid    ssex  srace                  sbirthq sbirthy stark star1 star2  \\\n",
       "0  1122  female  black  3rd qtr - july,aug,sept  1979.0    no    no    no   \n",
       "1  1137  female  white  1st qtr - jan,feb,march  1980.0   yes   yes   yes   \n",
       "2  1143  female  black    4th qtr - oct,nov,dec  1979.0   yes   yes   yes   \n",
       "3  1160    male  white    4th qtr - oct,nov,dec  1979.0    no    no    no   \n",
       "4  1183    male  black  1st qtr - jan,feb,march  1980.0   yes    no    no   \n",
       "\n",
       "  star3               cltypek  ...           clad3 totexp3 sysidkn sysid1n  \\\n",
       "0   yes                   NaN  ...  ladder level 1    30.0     NaN     NaN   \n",
       "1   yes           small class  ...      apprentice     1.0    30.0    30.0   \n",
       "2   yes           small class  ...  ladder level 1     4.0    11.0    11.0   \n",
       "3   yes                   NaN  ...  ladder level 1    10.0     NaN     NaN   \n",
       "4    no  regular + aide class  ...             NaN     NaN    11.0     NaN   \n",
       "\n",
       "  sysid2n sysid3n schidkn schid1n  schid2n  schid3n  \n",
       "0     NaN    22.0     NaN     NaN      NaN     54.0  \n",
       "1    30.0    30.0    63.0    63.0     63.0     63.0  \n",
       "2    11.0    11.0    20.0    20.0     20.0     20.0  \n",
       "3     NaN     6.0     NaN     NaN      NaN      8.0  \n",
       "4     NaN     NaN    19.0     NaN      NaN      NaN  \n",
       "\n",
       "[5 rows x 53 columns]"
      ]
     },
     "execution_count": 18,
     "metadata": {},
     "output_type": "execute_result"
    }
   ],
   "source": [
    "df = pd.read_stata('data/webstar.dta')\n",
    "df.head()"
   ]
  },
  {
   "cell_type": "markdown",
   "metadata": {},
   "source": [
    "**1.** How many male and how many female students are in the data?"
   ]
  },
  {
   "cell_type": "code",
   "execution_count": 19,
   "metadata": {},
   "outputs": [
    {
     "name": "stdout",
     "output_type": "stream",
     "text": [
      "The data contains 6122 male students and 5456 female student\n"
     ]
    }
   ],
   "source": [
    "print(f\"The data contains {len(df[df.ssex == 'male'])} male students and {len(df[df.ssex == 'female'])} female student\")"
   ]
  },
  {
   "cell_type": "code",
   "execution_count": 20,
   "metadata": {},
   "outputs": [
    {
     "data": {
      "text/plain": [
       "['female', 'male', NaN]\n",
       "Categories (2, object): ['male' < 'female']"
      ]
     },
     "execution_count": 20,
     "metadata": {},
     "output_type": "execute_result"
    }
   ],
   "source": [
    "df.ssex.unique()"
   ]
  },
  {
   "cell_type": "markdown",
   "metadata": {},
   "source": [
    "**2.** Make a bar chart."
   ]
  },
  {
   "cell_type": "code",
   "execution_count": 21,
   "metadata": {},
   "outputs": [
    {
     "data": {
      "text/plain": [
       "Text(0, 0.5, 'Number of attendants')"
      ]
     },
     "execution_count": 21,
     "metadata": {},
     "output_type": "execute_result"
    },
    {
     "data": {
      "image/png": "[encoded data removed]",
      "text/plain": [
       "<Figure size 432x288 with 1 Axes>"
      ]
     },
     "metadata": {
      "needs_background": "light"
     },
     "output_type": "display_data"
    }
   ],
   "source": [
    "plt.bar(['male', 'female'], df.ssex.value_counts())\n",
    "plt.title(\"Gender repartition in the study\")\n",
    "plt.ylabel(\"Number of attendants\")"
   ]
  },
  {
   "cell_type": "markdown",
   "metadata": {},
   "source": [
    "**3.** What is the share of male-black, male-white, female-black, female-white, male-non-black-or-white (all other races combinated) and female non-black-or-white students?"
   ]
  },
  {
   "cell_type": "code",
   "execution_count": 22,
   "metadata": {},
   "outputs": [
    {
     "ename": "KeyError",
     "evalue": "'my_race'",
     "output_type": "error",
     "traceback": [
      "\u001b[0;31m---------------------------------------------------------------------------\u001b[0m",
      "\u001b[0;31mKeyError\u001b[0m                                  Traceback (most recent call last)",
      "\u001b[0;32m/opt/miniconda3/lib/python3.9/site-packages/pandas/core/indexes/base.py\u001b[0m in \u001b[0;36mget_loc\u001b[0;34m(self, key, method, tolerance)\u001b[0m\n\u001b[1;32m   3360\u001b[0m             \u001b[0;32mtry\u001b[0m\u001b[0;34m:\u001b[0m\u001b[0;34m\u001b[0m\u001b[0;34m\u001b[0m\u001b[0m\n\u001b[0;32m-> 3361\u001b[0;31m                 \u001b[0;32mreturn\u001b[0m \u001b[0mself\u001b[0m\u001b[0;34m.\u001b[0m\u001b[0m_engine\u001b[0m\u001b[0;34m.\u001b[0m\u001b[0mget_loc\u001b[0m\u001b[0;34m(\u001b[0m\u001b[0mcasted_key\u001b[0m\u001b[0;34m)\u001b[0m\u001b[0;34m\u001b[0m\u001b[0;34m\u001b[0m\u001b[0m\n\u001b[0m\u001b[1;32m   3362\u001b[0m             \u001b[0;32mexcept\u001b[0m \u001b[0mKeyError\u001b[0m \u001b[0;32mas\u001b[0m \u001b[0merr\u001b[0m\u001b[0;34m:\u001b[0m\u001b[0;34m\u001b[0m\u001b[0;34m\u001b[0m\u001b[0m\n",
      "\u001b[0;32m/opt/miniconda3/lib/python3.9/site-packages/pandas/_libs/index.pyx\u001b[0m in \u001b[0;36mpandas._libs.index.IndexEngine.get_loc\u001b[0;34m()\u001b[0m\n",
      "\u001b[0;32m/opt/miniconda3/lib/python3.9/site-packages/pandas/_libs/index.pyx\u001b[0m in \u001b[0;36mpandas._libs.index.IndexEngine.get_loc\u001b[0;34m()\u001b[0m\n",
      "\u001b[0;32mpandas/_libs/hashtable_class_helper.pxi\u001b[0m in \u001b[0;36mpandas._libs.hashtable.PyObjectHashTable.get_item\u001b[0;34m()\u001b[0m\n",
      "\u001b[0;32mpandas/_libs/hashtable_class_helper.pxi\u001b[0m in \u001b[0;36mpandas._libs.hashtable.PyObjectHashTable.get_item\u001b[0;34m()\u001b[0m\n",
      "\u001b[0;31mKeyError\u001b[0m: 'my_race'",
      "\nThe above exception was the direct cause of the following exception:\n",
      "\u001b[0;31mKeyError\u001b[0m                                  Traceback (most recent call last)",
      "\u001b[0;32m/var/folders/2x/jyk25dss11q4zcwpyjj6vtx40000gn/T/ipykernel_1403/2056550028.py\u001b[0m in \u001b[0;36m<module>\u001b[0;34m\u001b[0m\n\u001b[0;32m----> 1\u001b[0;31m \u001b[0mdf\u001b[0m\u001b[0;34m[\u001b[0m\u001b[0;34m'my_race'\u001b[0m\u001b[0;34m]\u001b[0m\u001b[0;34m[\u001b[0m\u001b[0mdf\u001b[0m\u001b[0;34m.\u001b[0m\u001b[0msrace\u001b[0m \u001b[0;34m!=\u001b[0m \u001b[0;34m'black'\u001b[0m\u001b[0;34m]\u001b[0m\u001b[0;34m[\u001b[0m\u001b[0mdf\u001b[0m\u001b[0;34m.\u001b[0m\u001b[0msrace\u001b[0m \u001b[0;34m!=\u001b[0m \u001b[0;34m'white'\u001b[0m\u001b[0;34m]\u001b[0m\u001b[0;34m\u001b[0m\u001b[0;34m\u001b[0m\u001b[0m\n\u001b[0m",
      "\u001b[0;32m/opt/miniconda3/lib/python3.9/site-packages/pandas/core/frame.py\u001b[0m in \u001b[0;36m__getitem__\u001b[0;34m(self, key)\u001b[0m\n\u001b[1;32m   3456\u001b[0m             \u001b[0;32mif\u001b[0m \u001b[0mself\u001b[0m\u001b[0;34m.\u001b[0m\u001b[0mcolumns\u001b[0m\u001b[0;34m.\u001b[0m\u001b[0mnlevels\u001b[0m \u001b[0;34m>\u001b[0m \u001b[0;36m1\u001b[0m\u001b[0;34m:\u001b[0m\u001b[0;34m\u001b[0m\u001b[0;34m\u001b[0m\u001b[0m\n\u001b[1;32m   3457\u001b[0m                 \u001b[0;32mreturn\u001b[0m \u001b[0mself\u001b[0m\u001b[0;34m.\u001b[0m\u001b[0m_getitem_multilevel\u001b[0m\u001b[0;34m(\u001b[0m\u001b[0mkey\u001b[0m\u001b[0;34m)\u001b[0m\u001b[0;34m\u001b[0m\u001b[0;34m\u001b[0m\u001b[0m\n\u001b[0;32m-> 3458\u001b[0;31m             \u001b[0mindexer\u001b[0m \u001b[0;34m=\u001b[0m \u001b[0mself\u001b[0m\u001b[0;34m.\u001b[0m\u001b[0mcolumns\u001b[0m\u001b[0;34m.\u001b[0m\u001b[0mget_loc\u001b[0m\u001b[0;34m(\u001b[0m\u001b[0mkey\u001b[0m\u001b[0;34m)\u001b[0m\u001b[0;34m\u001b[0m\u001b[0;34m\u001b[0m\u001b[0m\n\u001b[0m\u001b[1;32m   3459\u001b[0m             \u001b[0;32mif\u001b[0m \u001b[0mis_integer\u001b[0m\u001b[0;34m(\u001b[0m\u001b[0mindexer\u001b[0m\u001b[0;34m)\u001b[0m\u001b[0;34m:\u001b[0m\u001b[0;34m\u001b[0m\u001b[0;34m\u001b[0m\u001b[0m\n\u001b[1;32m   3460\u001b[0m                 \u001b[0mindexer\u001b[0m \u001b[0;34m=\u001b[0m \u001b[0;34m[\u001b[0m\u001b[0mindexer\u001b[0m\u001b[0;34m]\u001b[0m\u001b[0;34m\u001b[0m\u001b[0;34m\u001b[0m\u001b[0m\n",
      "\u001b[0;32m/opt/miniconda3/lib/python3.9/site-packages/pandas/core/indexes/base.py\u001b[0m in \u001b[0;36mget_loc\u001b[0;34m(self, key, method, tolerance)\u001b[0m\n\u001b[1;32m   3361\u001b[0m                 \u001b[0;32mreturn\u001b[0m \u001b[0mself\u001b[0m\u001b[0;34m.\u001b[0m\u001b[0m_engine\u001b[0m\u001b[0;34m.\u001b[0m\u001b[0mget_loc\u001b[0m\u001b[0;34m(\u001b[0m\u001b[0mcasted_key\u001b[0m\u001b[0;34m)\u001b[0m\u001b[0;34m\u001b[0m\u001b[0;34m\u001b[0m\u001b[0m\n\u001b[1;32m   3362\u001b[0m             \u001b[0;32mexcept\u001b[0m \u001b[0mKeyError\u001b[0m \u001b[0;32mas\u001b[0m \u001b[0merr\u001b[0m\u001b[0;34m:\u001b[0m\u001b[0;34m\u001b[0m\u001b[0;34m\u001b[0m\u001b[0m\n\u001b[0;32m-> 3363\u001b[0;31m                 \u001b[0;32mraise\u001b[0m \u001b[0mKeyError\u001b[0m\u001b[0;34m(\u001b[0m\u001b[0mkey\u001b[0m\u001b[0;34m)\u001b[0m \u001b[0;32mfrom\u001b[0m \u001b[0merr\u001b[0m\u001b[0;34m\u001b[0m\u001b[0;34m\u001b[0m\u001b[0m\n\u001b[0m\u001b[1;32m   3364\u001b[0m \u001b[0;34m\u001b[0m\u001b[0m\n\u001b[1;32m   3365\u001b[0m         \u001b[0;32mif\u001b[0m \u001b[0mis_scalar\u001b[0m\u001b[0;34m(\u001b[0m\u001b[0mkey\u001b[0m\u001b[0;34m)\u001b[0m \u001b[0;32mand\u001b[0m \u001b[0misna\u001b[0m\u001b[0;34m(\u001b[0m\u001b[0mkey\u001b[0m\u001b[0;34m)\u001b[0m \u001b[0;32mand\u001b[0m \u001b[0;32mnot\u001b[0m \u001b[0mself\u001b[0m\u001b[0;34m.\u001b[0m\u001b[0mhasnans\u001b[0m\u001b[0;34m:\u001b[0m\u001b[0;34m\u001b[0m\u001b[0;34m\u001b[0m\u001b[0m\n",
      "\u001b[0;31mKeyError\u001b[0m: 'my_race'"
     ]
    }
   ],
   "source": [
    "df['my_race'][df.srace != 'black'][df.srace != 'white']"
   ]
  },
  {
   "cell_type": "code",
   "execution_count": null,
   "metadata": {},
   "outputs": [
    {
     "name": "stderr",
     "output_type": "stream",
     "text": [
      "/var/folders/2x/jyk25dss11q4zcwpyjj6vtx40000gn/T/ipykernel_1083/4233494741.py:2: SettingWithCopyWarning: \n",
      "A value is trying to be set on a copy of a slice from a DataFrame\n",
      "\n",
      "See the caveats in the documentation: https://pandas.pydata.org/pandas-docs/stable/user_guide/indexing.html#returning-a-view-versus-a-copy\n",
      "  df['my_race'][df.srace == 'white'] = 'white'\n",
      "/var/folders/2x/jyk25dss11q4zcwpyjj6vtx40000gn/T/ipykernel_1083/4233494741.py:3: SettingWithCopyWarning: \n",
      "A value is trying to be set on a copy of a slice from a DataFrame\n",
      "\n",
      "See the caveats in the documentation: https://pandas.pydata.org/pandas-docs/stable/user_guide/indexing.html#returning-a-view-versus-a-copy\n",
      "  df['my_race'][df.srace == 'black'] = 'black'\n",
      "/var/folders/2x/jyk25dss11q4zcwpyjj6vtx40000gn/T/ipykernel_1083/4233494741.py:4: SettingWithCopyWarning: \n",
      "A value is trying to be set on a copy of a slice from a DataFrame\n",
      "\n",
      "See the caveats in the documentation: https://pandas.pydata.org/pandas-docs/stable/user_guide/indexing.html#returning-a-view-versus-a-copy\n",
      "  df['my_race'][df.my_race == None] = 'other'\n"
     ]
    }
   ],
   "source": [
    "df['my_race'] = None\n",
    "df['my_race'][df.srace == 'white'] = 'white'\n",
    "df['my_race'][df.srace == 'black'] = 'black'\n",
    "df['my_race'][df.my_race == None] = 'other'"
   ]
  },
  {
   "cell_type": "markdown",
   "metadata": {},
   "source": [
    "I know this method is not perfect considering copy issues in pandas. However, I can't help myself finding another way..."
   ]
  },
  {
   "cell_type": "code",
   "execution_count": null,
   "metadata": {},
   "outputs": [
    {
     "data": {
      "text/plain": [
       "ssex    my_race\n",
       "male    white      33.512229\n",
       "female  white      29.773007\n",
       "male    black      19.329579\n",
       "female  black      17.385184\n",
       "dtype: float64"
      ]
     },
     "execution_count": 148,
     "metadata": {},
     "output_type": "execute_result"
    }
   ],
   "source": [
    "df.value_counts(['ssex', 'my_race'], normalize=True, sort=True)*100"
   ]
  },
  {
   "cell_type": "markdown",
   "metadata": {},
   "source": [
    "1. How many male and how many female students are in the data?\n",
    "1. make a bar chart.\n",
    "1. What is the share of male-black, male-white, female-black, female-white, male-non-black-or-white (all other races combined) and female non-black-or-whitestudents?\n",
    "1. Make a pie chart.\n",
    "1. What is the range of the total reading scaled score (_treadssk_)?\n",
    "1. What is the mean of the math scaled score (_tmathssk_) for students that have attended the STAR project in the kindergarden and have been in a small class (_cltypek_) and what is for students that have attended the STAR project in the kindergarden and have been in a regular class (not including the 'regular+aid' category)? (Note that this is no very informative as those that have been in a small class in kindergarden may have been in a regular class in first and /or second grade while those that haven't been in a small class in kindergarden may have been in so in first or second grade) \n",
    "1. What is the combined math and resing scaled score (the sum of _tmathssk_ and _treadssk_) for students that have been in a small class in kindergarden, first grade and second grade (_cltypek_,_cltype1_ and _cltype2_) compared to students that have never been in a small class (_cltypek_, _cltype1_ and _cltype2_ are either 'regular' or missing). Exclude the regular+aide' category for this exercise.\n",
    "1. Regarding the former task: is the difference larger or smaller for white than for non-white students?"
   ]
  },
  {
   "cell_type": "markdown",
   "metadata": {},
   "source": [
    "# Exercise 3\n",
    "\n",
    "**Wage and Education**\n",
    "\n",
    "<blockquote> For the population of people in the workforce in 1976, let $y=wage$, where $wage$ is measured in dollars per hour. Thus, for a particular person, if $wage$=6.75, the hourly wage is \\$6.75. Let $x=educ$ denote years of schooling; for example, $educ=12$ corresponds to a complete high school education.\n",
    "\n",
    "We are interested in studying the relation between education and wage, and our regression model is  \n",
    "\n",
    "\n",
    "\\begin{equation*}\n",
    "wage=\\beta_0+\\beta_1education+u\n",
    "\\end{equation*}\n",
    "\n",
    "Because the average wage in the sample is \\\\$5.90, the Consumer Price Index indicates that this amount is equivalent to \\\\$24.90 in 2016 dollars.\n",
    "\n",
    "1. Describe the dataset descriptively (mean, minimum, maximum,  number of observations).\n",
    "1. Estimate the paramters by hand and using a built-in routine.\n",
    "1. How do we interpret the parameter estimates?\n",
    "1. Do you think the assumtpion $E(u|x)=0$ is met? If not - why not? And what does it mean?\n",
    "1. Plot the fit."
   ]
  },
  {
   "cell_type": "markdown",
   "metadata": {},
   "source": [
    "**1.** Describe the dataset descriptively."
   ]
  },
  {
   "cell_type": "code",
   "execution_count": null,
   "metadata": {},
   "outputs": [
    {
     "data": {
      "text/html": [
       "<div>\n",
       "<style scoped>\n",
       "    .dataframe tbody tr th:only-of-type {\n",
       "        vertical-align: middle;\n",
       "    }\n",
       "\n",
       "    .dataframe tbody tr th {\n",
       "        vertical-align: top;\n",
       "    }\n",
       "\n",
       "    .dataframe thead th {\n",
       "        text-align: right;\n",
       "    }\n",
       "</style>\n",
       "<table border=\"1\" class=\"dataframe\">\n",
       "  <thead>\n",
       "    <tr style=\"text-align: right;\">\n",
       "      <th></th>\n",
       "      <th>nr</th>\n",
       "      <th>year</th>\n",
       "      <th>black</th>\n",
       "      <th>exper</th>\n",
       "      <th>hisp</th>\n",
       "      <th>hours</th>\n",
       "      <th>married</th>\n",
       "      <th>occ1</th>\n",
       "      <th>occ2</th>\n",
       "      <th>occ3</th>\n",
       "      <th>...</th>\n",
       "      <th>union</th>\n",
       "      <th>lwage</th>\n",
       "      <th>d81</th>\n",
       "      <th>d82</th>\n",
       "      <th>d83</th>\n",
       "      <th>d84</th>\n",
       "      <th>d85</th>\n",
       "      <th>d86</th>\n",
       "      <th>d87</th>\n",
       "      <th>expersq</th>\n",
       "    </tr>\n",
       "  </thead>\n",
       "  <tbody>\n",
       "    <tr>\n",
       "      <th>0</th>\n",
       "      <td>13.0</td>\n",
       "      <td>1980.0</td>\n",
       "      <td>0.0</td>\n",
       "      <td>1.0</td>\n",
       "      <td>0.0</td>\n",
       "      <td>2672.0</td>\n",
       "      <td>0.0</td>\n",
       "      <td>0.0</td>\n",
       "      <td>0.0</td>\n",
       "      <td>0.0</td>\n",
       "      <td>...</td>\n",
       "      <td>0.0</td>\n",
       "      <td>1.197540</td>\n",
       "      <td>0.0</td>\n",
       "      <td>0.0</td>\n",
       "      <td>0.0</td>\n",
       "      <td>0.0</td>\n",
       "      <td>0.0</td>\n",
       "      <td>0.0</td>\n",
       "      <td>0.0</td>\n",
       "      <td>1.0</td>\n",
       "    </tr>\n",
       "    <tr>\n",
       "      <th>1</th>\n",
       "      <td>13.0</td>\n",
       "      <td>1981.0</td>\n",
       "      <td>0.0</td>\n",
       "      <td>2.0</td>\n",
       "      <td>0.0</td>\n",
       "      <td>2320.0</td>\n",
       "      <td>0.0</td>\n",
       "      <td>0.0</td>\n",
       "      <td>0.0</td>\n",
       "      <td>0.0</td>\n",
       "      <td>...</td>\n",
       "      <td>1.0</td>\n",
       "      <td>1.853060</td>\n",
       "      <td>1.0</td>\n",
       "      <td>0.0</td>\n",
       "      <td>0.0</td>\n",
       "      <td>0.0</td>\n",
       "      <td>0.0</td>\n",
       "      <td>0.0</td>\n",
       "      <td>0.0</td>\n",
       "      <td>4.0</td>\n",
       "    </tr>\n",
       "    <tr>\n",
       "      <th>2</th>\n",
       "      <td>13.0</td>\n",
       "      <td>1982.0</td>\n",
       "      <td>0.0</td>\n",
       "      <td>3.0</td>\n",
       "      <td>0.0</td>\n",
       "      <td>2940.0</td>\n",
       "      <td>0.0</td>\n",
       "      <td>0.0</td>\n",
       "      <td>0.0</td>\n",
       "      <td>0.0</td>\n",
       "      <td>...</td>\n",
       "      <td>0.0</td>\n",
       "      <td>1.344462</td>\n",
       "      <td>0.0</td>\n",
       "      <td>1.0</td>\n",
       "      <td>0.0</td>\n",
       "      <td>0.0</td>\n",
       "      <td>0.0</td>\n",
       "      <td>0.0</td>\n",
       "      <td>0.0</td>\n",
       "      <td>9.0</td>\n",
       "    </tr>\n",
       "    <tr>\n",
       "      <th>3</th>\n",
       "      <td>13.0</td>\n",
       "      <td>1983.0</td>\n",
       "      <td>0.0</td>\n",
       "      <td>4.0</td>\n",
       "      <td>0.0</td>\n",
       "      <td>2960.0</td>\n",
       "      <td>0.0</td>\n",
       "      <td>0.0</td>\n",
       "      <td>0.0</td>\n",
       "      <td>0.0</td>\n",
       "      <td>...</td>\n",
       "      <td>0.0</td>\n",
       "      <td>1.433213</td>\n",
       "      <td>0.0</td>\n",
       "      <td>0.0</td>\n",
       "      <td>1.0</td>\n",
       "      <td>0.0</td>\n",
       "      <td>0.0</td>\n",
       "      <td>0.0</td>\n",
       "      <td>0.0</td>\n",
       "      <td>16.0</td>\n",
       "    </tr>\n",
       "    <tr>\n",
       "      <th>4</th>\n",
       "      <td>13.0</td>\n",
       "      <td>1984.0</td>\n",
       "      <td>0.0</td>\n",
       "      <td>5.0</td>\n",
       "      <td>0.0</td>\n",
       "      <td>3071.0</td>\n",
       "      <td>0.0</td>\n",
       "      <td>0.0</td>\n",
       "      <td>0.0</td>\n",
       "      <td>0.0</td>\n",
       "      <td>...</td>\n",
       "      <td>0.0</td>\n",
       "      <td>1.568125</td>\n",
       "      <td>0.0</td>\n",
       "      <td>0.0</td>\n",
       "      <td>0.0</td>\n",
       "      <td>1.0</td>\n",
       "      <td>0.0</td>\n",
       "      <td>0.0</td>\n",
       "      <td>0.0</td>\n",
       "      <td>25.0</td>\n",
       "    </tr>\n",
       "  </tbody>\n",
       "</table>\n",
       "<p>5 rows × 27 columns</p>\n",
       "</div>"
      ],
      "text/plain": [
       "     nr    year  black  exper  hisp   hours  married  occ1  occ2  occ3  ...  \\\n",
       "0  13.0  1980.0    0.0    1.0   0.0  2672.0      0.0   0.0   0.0   0.0  ...   \n",
       "1  13.0  1981.0    0.0    2.0   0.0  2320.0      0.0   0.0   0.0   0.0  ...   \n",
       "2  13.0  1982.0    0.0    3.0   0.0  2940.0      0.0   0.0   0.0   0.0  ...   \n",
       "3  13.0  1983.0    0.0    4.0   0.0  2960.0      0.0   0.0   0.0   0.0  ...   \n",
       "4  13.0  1984.0    0.0    5.0   0.0  3071.0      0.0   0.0   0.0   0.0  ...   \n",
       "\n",
       "   union     lwage  d81  d82  d83  d84  d85  d86  d87  expersq  \n",
       "0    0.0  1.197540  0.0  0.0  0.0  0.0  0.0  0.0  0.0      1.0  \n",
       "1    1.0  1.853060  1.0  0.0  0.0  0.0  0.0  0.0  0.0      4.0  \n",
       "2    0.0  1.344462  0.0  1.0  0.0  0.0  0.0  0.0  0.0      9.0  \n",
       "3    0.0  1.433213  0.0  0.0  1.0  0.0  0.0  0.0  0.0     16.0  \n",
       "4    0.0  1.568125  0.0  0.0  0.0  1.0  0.0  0.0  0.0     25.0  \n",
       "\n",
       "[5 rows x 27 columns]"
      ]
     },
     "execution_count": 27,
     "metadata": {},
     "output_type": "execute_result"
    }
   ],
   "source": [
    "df = pd.read_stata('data/wages.dta')\n",
    "df.head()"
   ]
  },
  {
   "cell_type": "code",
   "execution_count": null,
   "metadata": {},
   "outputs": [
    {
     "data": {
      "text/html": [
       "<div>\n",
       "<style scoped>\n",
       "    .dataframe tbody tr th:only-of-type {\n",
       "        vertical-align: middle;\n",
       "    }\n",
       "\n",
       "    .dataframe tbody tr th {\n",
       "        vertical-align: top;\n",
       "    }\n",
       "\n",
       "    .dataframe thead th {\n",
       "        text-align: right;\n",
       "    }\n",
       "</style>\n",
       "<table border=\"1\" class=\"dataframe\">\n",
       "  <thead>\n",
       "    <tr style=\"text-align: right;\">\n",
       "      <th></th>\n",
       "      <th>nr</th>\n",
       "      <th>year</th>\n",
       "      <th>black</th>\n",
       "      <th>exper</th>\n",
       "      <th>hisp</th>\n",
       "      <th>hours</th>\n",
       "      <th>married</th>\n",
       "      <th>occ1</th>\n",
       "      <th>occ2</th>\n",
       "      <th>occ3</th>\n",
       "      <th>...</th>\n",
       "      <th>union</th>\n",
       "      <th>lwage</th>\n",
       "      <th>d81</th>\n",
       "      <th>d82</th>\n",
       "      <th>d83</th>\n",
       "      <th>d84</th>\n",
       "      <th>d85</th>\n",
       "      <th>d86</th>\n",
       "      <th>d87</th>\n",
       "      <th>expersq</th>\n",
       "    </tr>\n",
       "  </thead>\n",
       "  <tbody>\n",
       "    <tr>\n",
       "      <th>count</th>\n",
       "      <td>4360.000000</td>\n",
       "      <td>4360.000000</td>\n",
       "      <td>4360.000000</td>\n",
       "      <td>4360.000000</td>\n",
       "      <td>4360.000000</td>\n",
       "      <td>4360.000000</td>\n",
       "      <td>4360.000000</td>\n",
       "      <td>4360.000000</td>\n",
       "      <td>4360.000000</td>\n",
       "      <td>4360.000000</td>\n",
       "      <td>...</td>\n",
       "      <td>4360.000000</td>\n",
       "      <td>4360.000000</td>\n",
       "      <td>4360.000000</td>\n",
       "      <td>4360.000000</td>\n",
       "      <td>4360.000000</td>\n",
       "      <td>4360.000000</td>\n",
       "      <td>4360.000000</td>\n",
       "      <td>4360.000000</td>\n",
       "      <td>4360.000000</td>\n",
       "      <td>4360.00000</td>\n",
       "    </tr>\n",
       "    <tr>\n",
       "      <th>mean</th>\n",
       "      <td>5262.058594</td>\n",
       "      <td>1983.500000</td>\n",
       "      <td>0.115596</td>\n",
       "      <td>6.514679</td>\n",
       "      <td>0.155963</td>\n",
       "      <td>2191.257324</td>\n",
       "      <td>0.438991</td>\n",
       "      <td>0.103899</td>\n",
       "      <td>0.091514</td>\n",
       "      <td>0.053440</td>\n",
       "      <td>...</td>\n",
       "      <td>0.244037</td>\n",
       "      <td>1.649147</td>\n",
       "      <td>0.125000</td>\n",
       "      <td>0.125000</td>\n",
       "      <td>0.125000</td>\n",
       "      <td>0.125000</td>\n",
       "      <td>0.125000</td>\n",
       "      <td>0.125000</td>\n",
       "      <td>0.125000</td>\n",
       "      <td>50.42477</td>\n",
       "    </tr>\n",
       "    <tr>\n",
       "      <th>std</th>\n",
       "      <td>3496.149902</td>\n",
       "      <td>2.291551</td>\n",
       "      <td>0.319777</td>\n",
       "      <td>2.825873</td>\n",
       "      <td>0.362862</td>\n",
       "      <td>566.352295</td>\n",
       "      <td>0.496321</td>\n",
       "      <td>0.305165</td>\n",
       "      <td>0.288371</td>\n",
       "      <td>0.224936</td>\n",
       "      <td>...</td>\n",
       "      <td>0.429564</td>\n",
       "      <td>0.532609</td>\n",
       "      <td>0.330757</td>\n",
       "      <td>0.330757</td>\n",
       "      <td>0.330757</td>\n",
       "      <td>0.330757</td>\n",
       "      <td>0.330757</td>\n",
       "      <td>0.330757</td>\n",
       "      <td>0.330757</td>\n",
       "      <td>40.78199</td>\n",
       "    </tr>\n",
       "    <tr>\n",
       "      <th>min</th>\n",
       "      <td>13.000000</td>\n",
       "      <td>1980.000000</td>\n",
       "      <td>0.000000</td>\n",
       "      <td>0.000000</td>\n",
       "      <td>0.000000</td>\n",
       "      <td>120.000000</td>\n",
       "      <td>0.000000</td>\n",
       "      <td>0.000000</td>\n",
       "      <td>0.000000</td>\n",
       "      <td>0.000000</td>\n",
       "      <td>...</td>\n",
       "      <td>0.000000</td>\n",
       "      <td>-3.579079</td>\n",
       "      <td>0.000000</td>\n",
       "      <td>0.000000</td>\n",
       "      <td>0.000000</td>\n",
       "      <td>0.000000</td>\n",
       "      <td>0.000000</td>\n",
       "      <td>0.000000</td>\n",
       "      <td>0.000000</td>\n",
       "      <td>0.00000</td>\n",
       "    </tr>\n",
       "    <tr>\n",
       "      <th>25%</th>\n",
       "      <td>2329.000000</td>\n",
       "      <td>1981.750000</td>\n",
       "      <td>0.000000</td>\n",
       "      <td>4.000000</td>\n",
       "      <td>0.000000</td>\n",
       "      <td>2040.000000</td>\n",
       "      <td>0.000000</td>\n",
       "      <td>0.000000</td>\n",
       "      <td>0.000000</td>\n",
       "      <td>0.000000</td>\n",
       "      <td>...</td>\n",
       "      <td>0.000000</td>\n",
       "      <td>1.350717</td>\n",
       "      <td>0.000000</td>\n",
       "      <td>0.000000</td>\n",
       "      <td>0.000000</td>\n",
       "      <td>0.000000</td>\n",
       "      <td>0.000000</td>\n",
       "      <td>0.000000</td>\n",
       "      <td>0.000000</td>\n",
       "      <td>16.00000</td>\n",
       "    </tr>\n",
       "    <tr>\n",
       "      <th>50%</th>\n",
       "      <td>4569.000000</td>\n",
       "      <td>1983.500000</td>\n",
       "      <td>0.000000</td>\n",
       "      <td>6.000000</td>\n",
       "      <td>0.000000</td>\n",
       "      <td>2080.000000</td>\n",
       "      <td>0.000000</td>\n",
       "      <td>0.000000</td>\n",
       "      <td>0.000000</td>\n",
       "      <td>0.000000</td>\n",
       "      <td>...</td>\n",
       "      <td>0.000000</td>\n",
       "      <td>1.671143</td>\n",
       "      <td>0.000000</td>\n",
       "      <td>0.000000</td>\n",
       "      <td>0.000000</td>\n",
       "      <td>0.000000</td>\n",
       "      <td>0.000000</td>\n",
       "      <td>0.000000</td>\n",
       "      <td>0.000000</td>\n",
       "      <td>36.00000</td>\n",
       "    </tr>\n",
       "    <tr>\n",
       "      <th>75%</th>\n",
       "      <td>8406.000000</td>\n",
       "      <td>1985.250000</td>\n",
       "      <td>0.000000</td>\n",
       "      <td>9.000000</td>\n",
       "      <td>0.000000</td>\n",
       "      <td>2414.250000</td>\n",
       "      <td>1.000000</td>\n",
       "      <td>0.000000</td>\n",
       "      <td>0.000000</td>\n",
       "      <td>0.000000</td>\n",
       "      <td>...</td>\n",
       "      <td>0.000000</td>\n",
       "      <td>1.991086</td>\n",
       "      <td>0.000000</td>\n",
       "      <td>0.000000</td>\n",
       "      <td>0.000000</td>\n",
       "      <td>0.000000</td>\n",
       "      <td>0.000000</td>\n",
       "      <td>0.000000</td>\n",
       "      <td>0.000000</td>\n",
       "      <td>81.00000</td>\n",
       "    </tr>\n",
       "    <tr>\n",
       "      <th>max</th>\n",
       "      <td>12548.000000</td>\n",
       "      <td>1987.000000</td>\n",
       "      <td>1.000000</td>\n",
       "      <td>18.000000</td>\n",
       "      <td>1.000000</td>\n",
       "      <td>4992.000000</td>\n",
       "      <td>1.000000</td>\n",
       "      <td>1.000000</td>\n",
       "      <td>1.000000</td>\n",
       "      <td>1.000000</td>\n",
       "      <td>...</td>\n",
       "      <td>1.000000</td>\n",
       "      <td>4.051860</td>\n",
       "      <td>1.000000</td>\n",
       "      <td>1.000000</td>\n",
       "      <td>1.000000</td>\n",
       "      <td>1.000000</td>\n",
       "      <td>1.000000</td>\n",
       "      <td>1.000000</td>\n",
       "      <td>1.000000</td>\n",
       "      <td>324.00000</td>\n",
       "    </tr>\n",
       "  </tbody>\n",
       "</table>\n",
       "<p>8 rows × 27 columns</p>\n",
       "</div>"
      ],
      "text/plain": [
       "                 nr         year        black        exper         hisp  \\\n",
       "count   4360.000000  4360.000000  4360.000000  4360.000000  4360.000000   \n",
       "mean    5262.058594  1983.500000     0.115596     6.514679     0.155963   \n",
       "std     3496.149902     2.291551     0.319777     2.825873     0.362862   \n",
       "min       13.000000  1980.000000     0.000000     0.000000     0.000000   \n",
       "25%     2329.000000  1981.750000     0.000000     4.000000     0.000000   \n",
       "50%     4569.000000  1983.500000     0.000000     6.000000     0.000000   \n",
       "75%     8406.000000  1985.250000     0.000000     9.000000     0.000000   \n",
       "max    12548.000000  1987.000000     1.000000    18.000000     1.000000   \n",
       "\n",
       "             hours      married         occ1         occ2         occ3  ...  \\\n",
       "count  4360.000000  4360.000000  4360.000000  4360.000000  4360.000000  ...   \n",
       "mean   2191.257324     0.438991     0.103899     0.091514     0.053440  ...   \n",
       "std     566.352295     0.496321     0.305165     0.288371     0.224936  ...   \n",
       "min     120.000000     0.000000     0.000000     0.000000     0.000000  ...   \n",
       "25%    2040.000000     0.000000     0.000000     0.000000     0.000000  ...   \n",
       "50%    2080.000000     0.000000     0.000000     0.000000     0.000000  ...   \n",
       "75%    2414.250000     1.000000     0.000000     0.000000     0.000000  ...   \n",
       "max    4992.000000     1.000000     1.000000     1.000000     1.000000  ...   \n",
       "\n",
       "             union        lwage          d81          d82          d83  \\\n",
       "count  4360.000000  4360.000000  4360.000000  4360.000000  4360.000000   \n",
       "mean      0.244037     1.649147     0.125000     0.125000     0.125000   \n",
       "std       0.429564     0.532609     0.330757     0.330757     0.330757   \n",
       "min       0.000000    -3.579079     0.000000     0.000000     0.000000   \n",
       "25%       0.000000     1.350717     0.000000     0.000000     0.000000   \n",
       "50%       0.000000     1.671143     0.000000     0.000000     0.000000   \n",
       "75%       0.000000     1.991086     0.000000     0.000000     0.000000   \n",
       "max       1.000000     4.051860     1.000000     1.000000     1.000000   \n",
       "\n",
       "               d84          d85          d86          d87     expersq  \n",
       "count  4360.000000  4360.000000  4360.000000  4360.000000  4360.00000  \n",
       "mean      0.125000     0.125000     0.125000     0.125000    50.42477  \n",
       "std       0.330757     0.330757     0.330757     0.330757    40.78199  \n",
       "min       0.000000     0.000000     0.000000     0.000000     0.00000  \n",
       "25%       0.000000     0.000000     0.000000     0.000000    16.00000  \n",
       "50%       0.000000     0.000000     0.000000     0.000000    36.00000  \n",
       "75%       0.000000     0.000000     0.000000     0.000000    81.00000  \n",
       "max       1.000000     1.000000     1.000000     1.000000   324.00000  \n",
       "\n",
       "[8 rows x 27 columns]"
      ]
     },
     "execution_count": 28,
     "metadata": {},
     "output_type": "execute_result"
    }
   ],
   "source": [
    "df.describe()"
   ]
  },
  {
   "cell_type": "markdown",
   "metadata": {},
   "source": [
    "**3.**  Estimate the parameters by hand and using a built-in routine."
   ]
  },
  {
   "cell_type": "code",
   "execution_count": null,
   "metadata": {},
   "outputs": [],
   "source": [
    "df['wage'] = np.exp(df['lwage'])"
   ]
  },
  {
   "cell_type": "code",
   "execution_count": null,
   "metadata": {},
   "outputs": [
    {
     "name": "stdout",
     "output_type": "stream",
     "text": [
      "The parameters (by hand) are :\n",
      " beta0 = 0.2151629854239987 \n",
      " beta1 = 0.48474763940507226\n"
     ]
    }
   ],
   "source": [
    "# By hand\n",
    "\n",
    "beta1_hand = df['wage'].cov(df['educ']) / df['educ'].var()\n",
    "beta0_hand = df['wage'].mean() - beta1_hand * df['educ'].mean()\n",
    "\n",
    "print(f\"The parameters (by hand) are :\\n beta0 = {beta0_hand} \\n beta1 = {beta1_hand}\")"
   ]
  },
  {
   "cell_type": "code",
   "execution_count": null,
   "metadata": {},
   "outputs": [
    {
     "name": "stdout",
     "output_type": "stream",
     "text": [
      "The parameters (built-in) are :\n",
      " beta0 = 0.21516305582875672 \n",
      " beta1 = 0.4847476295871239\n"
     ]
    }
   ],
   "source": [
    "# Built-in routine\n",
    "\n",
    "reg = smf.ols(formula='wage ~ educ', data=df)\n",
    "results = reg.fit()\n",
    "b = results.params\n",
    "\n",
    "beta0_builtin = b[0]\n",
    "beta1_builtin = b[1]\n",
    "\n",
    "print(f\"The parameters (built-in) are :\\n beta0 = {beta0_builtin} \\n beta1 = {beta1_builtin}\")"
   ]
  },
  {
   "cell_type": "code",
   "execution_count": null,
   "metadata": {},
   "outputs": [
    {
     "name": "stdout",
     "output_type": "stream",
     "text": [
      "The parameters differ by 3.2721583058194825e-05 % for beta0 \n",
      " and 2.0253731517092925e-06 % for beta1.\n"
     ]
    }
   ],
   "source": [
    "print(f\"The parameters differ by {abs(beta0_builtin - beta0_hand) / beta0_builtin * 100} % for beta0 \\n and {abs(beta1_builtin - beta1_hand) / beta1_builtin * 100} % for beta1.\") "
   ]
  },
  {
   "cell_type": "markdown",
   "metadata": {},
   "source": [
    "**3.** How do we interpret the parameter estimates?"
   ]
  },
  {
   "cell_type": "markdown",
   "metadata": {},
   "source": [
    "The wage earned by a person who hasn't recieved any education is \\$0.22 (per hour) and an additional year of eduction allows a growth of \\$0.48 (per hour)."
   ]
  },
  {
   "cell_type": "markdown",
   "metadata": {},
   "source": [
    "**4.** Do you think the assumption $E(u|x) = 0$ is met? If not - why not? And what does it mean?"
   ]
  },
  {
   "cell_type": "markdown",
   "metadata": {},
   "source": [
    "I don't think this assumption is correct because education is correlated with other paramaters that have been omitted here that influence the wage."
   ]
  },
  {
   "cell_type": "markdown",
   "metadata": {},
   "source": [
    "**5.** Plot the fit."
   ]
  },
  {
   "cell_type": "code",
   "execution_count": null,
   "metadata": {},
   "outputs": [
    {
     "data": {
      "image/png": "[encoded data removed]",
      "text/plain": [
       "<Figure size 432x288 with 1 Axes>"
      ]
     },
     "metadata": {
      "needs_background": "light"
     },
     "output_type": "display_data"
    }
   ],
   "source": [
    "plt.scatter(df.educ, df.wage, marker='.')\n",
    "educ_axis = np.linspace(0, 16, 100)\n",
    "plt.plot(educ_axis, beta0_hand + beta1_hand * educ_axis, color='red')\n",
    "plt.title('Correlation between level of education and wage')\n",
    "plt.xlabel('Years of education')\n",
    "plt.ylabel('Wage, in $/h')\n",
    "plt.show()"
   ]
  },
  {
   "cell_type": "markdown",
   "metadata": {},
   "source": [
    "# Exercise 4\n",
    "\n",
    "**Voting Outcomes and Campaign Expenditures**\n",
    "\n",
    "<blockquote> The file VOTE1 contains data on election outcomes and campaign expenditures for 173 two-party races for the U.S. House of Representatives in 1988. There are two candidates in each race, A and B. Let $voteA$ be the percentage of the vote received by Candidate A and $shareA$ be the percentage of\n",
    "total campaign expenditures accounted for by Candidate A. Many factors other than $shareA$ affect the election outcome (including the quality of the candidates and possibly the dollar amounts spent by A and B). Nevertheless, we can estimate a simple regression model to find out whether spending more relative to one’s challenger implies a higher percentage of the vote.\n",
    "The regression model in this case is \n",
    "\n",
    "\\begin{equation*}\n",
    "voteA=\\beta_0+\\beta_1shareA+u\n",
    "\\end{equation*}\n",
    "\n",
    "1. Describe the dataset descriptively (mean, minimum, maximum,  number of observations).\n",
    "1. Estimate the paramters by hand and using a built-in routine.\n",
    "1. How do we interpret the parameter estimates?\n",
    "1. Do you think the assumtpion $E(u|x)=0$ is met? If not - why not? And what does it mean?\n",
    "1. Plot the fit.\n"
   ]
  },
  {
   "cell_type": "markdown",
   "metadata": {},
   "source": [
    "**1.** Describe the dataset descriptively (mean, minimum, maximum, number of observations)."
   ]
  },
  {
   "cell_type": "code",
   "execution_count": null,
   "metadata": {},
   "outputs": [
    {
     "data": {
      "text/html": [
       "<div>\n",
       "<style scoped>\n",
       "    .dataframe tbody tr th:only-of-type {\n",
       "        vertical-align: middle;\n",
       "    }\n",
       "\n",
       "    .dataframe tbody tr th {\n",
       "        vertical-align: top;\n",
       "    }\n",
       "\n",
       "    .dataframe thead th {\n",
       "        text-align: right;\n",
       "    }\n",
       "</style>\n",
       "<table border=\"1\" class=\"dataframe\">\n",
       "  <thead>\n",
       "    <tr style=\"text-align: right;\">\n",
       "      <th></th>\n",
       "      <th>state</th>\n",
       "      <th>district</th>\n",
       "      <th>democA</th>\n",
       "      <th>voteA</th>\n",
       "      <th>expendA</th>\n",
       "      <th>expendB</th>\n",
       "      <th>prtystrA</th>\n",
       "      <th>lexpendA</th>\n",
       "      <th>lexpendB</th>\n",
       "      <th>shareA</th>\n",
       "    </tr>\n",
       "  </thead>\n",
       "  <tbody>\n",
       "    <tr>\n",
       "      <th>0</th>\n",
       "      <td>AL</td>\n",
       "      <td>7</td>\n",
       "      <td>1</td>\n",
       "      <td>68</td>\n",
       "      <td>328.295990</td>\n",
       "      <td>8.737000</td>\n",
       "      <td>41</td>\n",
       "      <td>5.793916</td>\n",
       "      <td>2.167567</td>\n",
       "      <td>97.407669</td>\n",
       "    </tr>\n",
       "    <tr>\n",
       "      <th>1</th>\n",
       "      <td>AK</td>\n",
       "      <td>1</td>\n",
       "      <td>0</td>\n",
       "      <td>62</td>\n",
       "      <td>626.377014</td>\n",
       "      <td>402.476990</td>\n",
       "      <td>60</td>\n",
       "      <td>6.439952</td>\n",
       "      <td>5.997638</td>\n",
       "      <td>60.881039</td>\n",
       "    </tr>\n",
       "    <tr>\n",
       "      <th>2</th>\n",
       "      <td>AZ</td>\n",
       "      <td>2</td>\n",
       "      <td>1</td>\n",
       "      <td>73</td>\n",
       "      <td>99.607002</td>\n",
       "      <td>3.065000</td>\n",
       "      <td>55</td>\n",
       "      <td>4.601233</td>\n",
       "      <td>1.120048</td>\n",
       "      <td>97.014763</td>\n",
       "    </tr>\n",
       "    <tr>\n",
       "      <th>3</th>\n",
       "      <td>AZ</td>\n",
       "      <td>3</td>\n",
       "      <td>0</td>\n",
       "      <td>69</td>\n",
       "      <td>319.690002</td>\n",
       "      <td>26.281000</td>\n",
       "      <td>64</td>\n",
       "      <td>5.767352</td>\n",
       "      <td>3.268846</td>\n",
       "      <td>92.403702</td>\n",
       "    </tr>\n",
       "    <tr>\n",
       "      <th>4</th>\n",
       "      <td>AR</td>\n",
       "      <td>3</td>\n",
       "      <td>0</td>\n",
       "      <td>75</td>\n",
       "      <td>159.220993</td>\n",
       "      <td>60.054001</td>\n",
       "      <td>66</td>\n",
       "      <td>5.070293</td>\n",
       "      <td>4.095244</td>\n",
       "      <td>72.612473</td>\n",
       "    </tr>\n",
       "  </tbody>\n",
       "</table>\n",
       "</div>"
      ],
      "text/plain": [
       "  state  district  democA  voteA     expendA     expendB  prtystrA  lexpendA  \\\n",
       "0    AL         7       1     68  328.295990    8.737000        41  5.793916   \n",
       "1    AK         1       0     62  626.377014  402.476990        60  6.439952   \n",
       "2    AZ         2       1     73   99.607002    3.065000        55  4.601233   \n",
       "3    AZ         3       0     69  319.690002   26.281000        64  5.767352   \n",
       "4    AR         3       0     75  159.220993   60.054001        66  5.070293   \n",
       "\n",
       "   lexpendB     shareA  \n",
       "0  2.167567  97.407669  \n",
       "1  5.997638  60.881039  \n",
       "2  1.120048  97.014763  \n",
       "3  3.268846  92.403702  \n",
       "4  4.095244  72.612473  "
      ]
     },
     "execution_count": 41,
     "metadata": {},
     "output_type": "execute_result"
    }
   ],
   "source": [
    "import wooldridge as woo\n",
    "\n",
    "df = woo.dataWoo('vote1')\n",
    "df.head()"
   ]
  },
  {
   "cell_type": "code",
   "execution_count": null,
   "metadata": {},
   "outputs": [
    {
     "data": {
      "text/html": [
       "<div>\n",
       "<style scoped>\n",
       "    .dataframe tbody tr th:only-of-type {\n",
       "        vertical-align: middle;\n",
       "    }\n",
       "\n",
       "    .dataframe tbody tr th {\n",
       "        vertical-align: top;\n",
       "    }\n",
       "\n",
       "    .dataframe thead th {\n",
       "        text-align: right;\n",
       "    }\n",
       "</style>\n",
       "<table border=\"1\" class=\"dataframe\">\n",
       "  <thead>\n",
       "    <tr style=\"text-align: right;\">\n",
       "      <th></th>\n",
       "      <th>district</th>\n",
       "      <th>democA</th>\n",
       "      <th>voteA</th>\n",
       "      <th>expendA</th>\n",
       "      <th>expendB</th>\n",
       "      <th>prtystrA</th>\n",
       "      <th>lexpendA</th>\n",
       "      <th>lexpendB</th>\n",
       "      <th>shareA</th>\n",
       "    </tr>\n",
       "  </thead>\n",
       "  <tbody>\n",
       "    <tr>\n",
       "      <th>count</th>\n",
       "      <td>173.000000</td>\n",
       "      <td>173.000000</td>\n",
       "      <td>173.000000</td>\n",
       "      <td>173.000000</td>\n",
       "      <td>173.000000</td>\n",
       "      <td>173.000000</td>\n",
       "      <td>173.000000</td>\n",
       "      <td>173.000000</td>\n",
       "      <td>173.000000</td>\n",
       "    </tr>\n",
       "    <tr>\n",
       "      <th>mean</th>\n",
       "      <td>8.838150</td>\n",
       "      <td>0.554913</td>\n",
       "      <td>50.502890</td>\n",
       "      <td>310.611005</td>\n",
       "      <td>305.088537</td>\n",
       "      <td>49.757225</td>\n",
       "      <td>5.025556</td>\n",
       "      <td>4.944369</td>\n",
       "      <td>51.076545</td>\n",
       "    </tr>\n",
       "    <tr>\n",
       "      <th>std</th>\n",
       "      <td>8.768823</td>\n",
       "      <td>0.498418</td>\n",
       "      <td>16.784761</td>\n",
       "      <td>280.985381</td>\n",
       "      <td>306.278339</td>\n",
       "      <td>9.983650</td>\n",
       "      <td>1.601602</td>\n",
       "      <td>1.571143</td>\n",
       "      <td>33.483575</td>\n",
       "    </tr>\n",
       "    <tr>\n",
       "      <th>min</th>\n",
       "      <td>1.000000</td>\n",
       "      <td>0.000000</td>\n",
       "      <td>16.000000</td>\n",
       "      <td>0.302000</td>\n",
       "      <td>0.930000</td>\n",
       "      <td>22.000000</td>\n",
       "      <td>-1.197328</td>\n",
       "      <td>-0.072571</td>\n",
       "      <td>0.094635</td>\n",
       "    </tr>\n",
       "    <tr>\n",
       "      <th>25%</th>\n",
       "      <td>3.000000</td>\n",
       "      <td>0.000000</td>\n",
       "      <td>36.000000</td>\n",
       "      <td>81.634003</td>\n",
       "      <td>60.054001</td>\n",
       "      <td>44.000000</td>\n",
       "      <td>4.402246</td>\n",
       "      <td>4.095244</td>\n",
       "      <td>18.867996</td>\n",
       "    </tr>\n",
       "    <tr>\n",
       "      <th>50%</th>\n",
       "      <td>6.000000</td>\n",
       "      <td>1.000000</td>\n",
       "      <td>50.000000</td>\n",
       "      <td>242.781998</td>\n",
       "      <td>221.529999</td>\n",
       "      <td>50.000000</td>\n",
       "      <td>5.492164</td>\n",
       "      <td>5.400558</td>\n",
       "      <td>50.849903</td>\n",
       "    </tr>\n",
       "    <tr>\n",
       "      <th>75%</th>\n",
       "      <td>11.000000</td>\n",
       "      <td>1.000000</td>\n",
       "      <td>65.000000</td>\n",
       "      <td>457.410004</td>\n",
       "      <td>450.716003</td>\n",
       "      <td>56.000000</td>\n",
       "      <td>6.125580</td>\n",
       "      <td>6.110837</td>\n",
       "      <td>84.255096</td>\n",
       "    </tr>\n",
       "    <tr>\n",
       "      <th>max</th>\n",
       "      <td>42.000000</td>\n",
       "      <td>1.000000</td>\n",
       "      <td>84.000000</td>\n",
       "      <td>1470.673950</td>\n",
       "      <td>1548.192993</td>\n",
       "      <td>71.000000</td>\n",
       "      <td>7.293476</td>\n",
       "      <td>7.344844</td>\n",
       "      <td>99.495003</td>\n",
       "    </tr>\n",
       "  </tbody>\n",
       "</table>\n",
       "</div>"
      ],
      "text/plain": [
       "         district      democA       voteA      expendA      expendB  \\\n",
       "count  173.000000  173.000000  173.000000   173.000000   173.000000   \n",
       "mean     8.838150    0.554913   50.502890   310.611005   305.088537   \n",
       "std      8.768823    0.498418   16.784761   280.985381   306.278339   \n",
       "min      1.000000    0.000000   16.000000     0.302000     0.930000   \n",
       "25%      3.000000    0.000000   36.000000    81.634003    60.054001   \n",
       "50%      6.000000    1.000000   50.000000   242.781998   221.529999   \n",
       "75%     11.000000    1.000000   65.000000   457.410004   450.716003   \n",
       "max     42.000000    1.000000   84.000000  1470.673950  1548.192993   \n",
       "\n",
       "         prtystrA    lexpendA    lexpendB      shareA  \n",
       "count  173.000000  173.000000  173.000000  173.000000  \n",
       "mean    49.757225    5.025556    4.944369   51.076545  \n",
       "std      9.983650    1.601602    1.571143   33.483575  \n",
       "min     22.000000   -1.197328   -0.072571    0.094635  \n",
       "25%     44.000000    4.402246    4.095244   18.867996  \n",
       "50%     50.000000    5.492164    5.400558   50.849903  \n",
       "75%     56.000000    6.125580    6.110837   84.255096  \n",
       "max     71.000000    7.293476    7.344844   99.495003  "
      ]
     },
     "execution_count": 42,
     "metadata": {},
     "output_type": "execute_result"
    }
   ],
   "source": [
    "df.describe()"
   ]
  },
  {
   "cell_type": "markdown",
   "metadata": {},
   "source": [
    "**2.** Estimate the paramters by hand and using a built-in routine."
   ]
  },
  {
   "cell_type": "code",
   "execution_count": null,
   "metadata": {},
   "outputs": [
    {
     "name": "stdout",
     "output_type": "stream",
     "text": [
      "The parameters (by hand) are :\n",
      " beta0 = 26.8122141286804 \n",
      " beta1 = 0.4638269122908852\n"
     ]
    }
   ],
   "source": [
    "# By hand\n",
    "\n",
    "beta1_h = df['voteA'].cov(df['shareA']) / df['shareA'].var()\n",
    "beta0_h = df['voteA'].mean() - beta1_h * df['shareA'].mean()\n",
    "\n",
    "print(f\"The parameters (by hand) are :\\n beta0 = {beta0_h} \\n beta1 = {beta1_h}\")"
   ]
  },
  {
   "cell_type": "code",
   "execution_count": null,
   "metadata": {},
   "outputs": [
    {
     "name": "stdout",
     "output_type": "stream",
     "text": [
      "The parameters (built-in) are :\n",
      " beta0 = 26.812214128680406 \n",
      " beta1 = 0.4638269122908854\n"
     ]
    }
   ],
   "source": [
    "# Built-in routine\n",
    "\n",
    "reg = smf.ols(formula='voteA ~ shareA', data = df)\n",
    "results = reg.fit()\n",
    "b = results.params\n",
    "\n",
    "beta0_b = b[0]\n",
    "beta1_b = b[1]\n",
    "\n",
    "print(f\"The parameters (built-in) are :\\n beta0 = {beta0_b} \\n beta1 = {beta1_b}\")"
   ]
  },
  {
   "cell_type": "markdown",
   "metadata": {},
   "source": [
    "**3.** How do we interpret the parameter estimates?"
   ]
  },
  {
   "cell_type": "markdown",
   "metadata": {},
   "source": [
    "A candidate can hope getting 27% of the votes.\n",
    "An additional expend of one percent point can help winning 0.46% more."
   ]
  },
  {
   "cell_type": "markdown",
   "metadata": {},
   "source": [
    "**4.** Do you think the assumption $E(u|x)=0$ is met? If not - why not? And what does it mean?"
   ]
  },
  {
   "cell_type": "markdown",
   "metadata": {},
   "source": []
  },
  {
   "cell_type": "markdown",
   "metadata": {},
   "source": [
    "**5.** Plot the fit."
   ]
  },
  {
   "cell_type": "code",
   "execution_count": null,
   "metadata": {},
   "outputs": [
    {
     "data": {
      "image/png": "[encoded data removed]",
      "text/plain": [
       "<Figure size 432x288 with 1 Axes>"
      ]
     },
     "metadata": {
      "needs_background": "light"
     },
     "output_type": "display_data"
    }
   ],
   "source": [
    "plt.scatter(df.shareA, df.voteA)\n",
    "share_axis = np.linspace(0., 100., 100)\n",
    "plt.plot(share_axis, beta0_h + share_axis * beta1_h, color='red')\n",
    "plt.title('Correlation between vote outcomes and expends')\n",
    "plt.xlabel('Percentage of total expensives spend by candidate A')\n",
    "plt.ylabel('Percentage of votes recieved by candidate A')\n",
    "plt.show()"
   ]
  }
 ],
 "metadata": {
  "celltoolbar": "Diaporama",
  "kernelspec": {
   "display_name": "Python 3.9.5 ('base')",
   "language": "python",
   "name": "python3"
  },
  "language_info": {
   "codemirror_mode": {
    "name": "ipython",
    "version": 3
   },
   "file_extension": ".py",
   "mimetype": "text/x-python",
   "name": "python",
   "nbconvert_exporter": "python",
   "pygments_lexer": "ipython3",
   "version": "3.9.5"
  },
  "toc": {
   "base_numbering": 1,
   "nav_menu": {},
   "number_sections": true,
   "sideBar": true,
   "skip_h1_title": true,
   "title_cell": "Table of Contents",
   "title_sidebar": "Contents",
   "toc_cell": false,
   "toc_position": {},
   "toc_section_display": true,
   "toc_window_display": true
  },
  "varInspector": {
   "cols": {
    "lenName": 16,
    "lenType": 16,
    "lenVar": 40
   },
   "kernels_config": {
    "python": {
     "delete_cmd_postfix": "",
     "delete_cmd_prefix": "del ",
     "library": "var_list.py",
     "varRefreshCmd": "print(var_dic_list())"
    },
    "r": {
     "delete_cmd_postfix": ") ",
     "delete_cmd_prefix": "rm(",
     "library": "var_list.r",
     "varRefreshCmd": "cat(var_dic_list()) "
    }
   },
   "types_to_exclude": [
    "module",
    "function",
    "builtin_function_or_method",
    "instance",
    "_Feature"
   ],
   "window_display": false
  },
  "vscode": {
   "interpreter": {
    "hash": "3d597f4c481aa0f25dceb95d2a0067e73c0966dcbd003d741d821a7208527ecf"
   }
  }
 },
 "nbformat": 4,
 "nbformat_minor": 2
}
